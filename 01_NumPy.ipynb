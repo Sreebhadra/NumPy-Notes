{
 "cells": [
  {
   "cell_type": "markdown",
   "id": "be7bce59-84f1-4e10-88a1-53098b620aae",
   "metadata": {},
   "source": [
    "# **NumPy**"
   ]
  },
  {
   "cell_type": "raw",
   "id": "20d12f7d-30d2-48f8-85d7-0262ac766d1a",
   "metadata": {},
   "source": [
    "What is NumPy?\n",
    "NumPy is a Python library used for working with arrays.\n",
    "NumPy stands for Numerical Python.\n",
    "\n",
    "Why Use NumPy?\n",
    "In Python we have lists that serve the purpose of arrays, but they are slow to process.\n",
    "NumPy aims to provide an array object that is up to 50x faster than traditional Python lists.\n",
    "The array object in NumPy is called ndarray, it provides a lot of supporting functions that make working with ndarray very easy.\n",
    "Arrays are very frequently used in data science, where speed and resources are very important.\n",
    "\n",
    "Why is NumPy Faster Than Lists?\n",
    "NumPy arrays are stored at one continuous place in memory unlike lists, so processes can access and manipulate them very efficiently.\n",
    "This behavior is called locality of reference in computer science.\n",
    "This is the main reason why NumPy is faster than lists. \n",
    "\n",
    "Which Language is NumPy written in?\n",
    "NumPy is a Python library and is written partially in Python, but most of the parts that require fast computation are written in C or C++."
   ]
  },
  {
   "cell_type": "markdown",
   "id": "26b98a03-7f4f-423a-9e2d-3c28951e03b6",
   "metadata": {},
   "source": [
    "**Numpy (Numerical Python)** is a Python library for working with arrays and matrices of numeric data. It provides an efficient and convenient way to perform mathematical operations on large datasets.\n",
    "<br><br>\n",
    "**Data as arrays:**\n",
    "<br>\n",
    "All types of data (images, sound, text) can be represented as numerical arrays\n",
    "This representation is fundamental for data analysis"
   ]
  },
  {
   "cell_type": "code",
   "execution_count": 21,
   "id": "c5a5aaa2-ec79-4378-a25f-1c8de3b8e394",
   "metadata": {},
   "outputs": [
    {
     "name": "stdout",
     "output_type": "stream",
     "text": [
      "1.26.4\n"
     ]
    }
   ],
   "source": [
    "#NumPy is usually imported under the np alias.\n",
    "\n",
    "import numpy as np\n",
    "\n",
    "print(np.__version__)"
   ]
  },
  {
   "cell_type": "code",
   "execution_count": null,
   "id": "bb0f5cab-bc0b-4735-b030-d4de9017d55f",
   "metadata": {},
   "outputs": [],
   "source": []
  }
 ],
 "metadata": {
  "kernelspec": {
   "display_name": "Python 3 (ipykernel)",
   "language": "python",
   "name": "python3"
  },
  "language_info": {
   "codemirror_mode": {
    "name": "ipython",
    "version": 3
   },
   "file_extension": ".py",
   "mimetype": "text/x-python",
   "name": "python",
   "nbconvert_exporter": "python",
   "pygments_lexer": "ipython3",
   "version": "3.12.4"
  }
 },
 "nbformat": 4,
 "nbformat_minor": 5
}
