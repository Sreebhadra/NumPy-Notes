{
 "cells": [
  {
   "cell_type": "markdown",
   "id": "f44f3e8a-d7c0-47ea-bbd6-60d96381ec27",
   "metadata": {},
   "source": [
    "# **Sorting Arrays in NumPy**\n",
    "Sorting arrays is an essential operation in data analysis and scientific computing. NumPy provides several functions to sort arrays, including `np.sort`, `np.argsort`, and `np.lexsort`.\n",
    "\n",
    "### Sorting 1D Arrays\n",
    "\n",
    "Let's create a 1D array and sort it using `np.sort`."
   ]
  },
  {
   "cell_type": "code",
   "execution_count": 6,
   "id": "ed2b6b30-3b30-45e9-8357-ee9a0e9a4fc9",
   "metadata": {},
   "outputs": [
    {
     "name": "stdout",
     "output_type": "stream",
     "text": [
      "[1 2 3 4 5 6 7 8 9]\n"
     ]
    }
   ],
   "source": [
    "import numpy as np\n",
    "\n",
    "arr = np.array([4, 2, 9, 6, 5, 1, 8, 3, 7])\n",
    "\n",
    "print(np.sort(arr)) "
   ]
  },
  {
   "cell_type": "markdown",
   "id": "3a7144a7-6d1f-4078-92f5-36c5c8d0265c",
   "metadata": {},
   "source": [
    "### Sorting 2D Arrays\n",
    "Let's create a 2D array and sort it using np.sort."
   ]
  },
  {
   "cell_type": "code",
   "execution_count": 8,
   "id": "1c860e1b-5bf9-412e-86bd-e3ac54dcbee4",
   "metadata": {},
   "outputs": [
    {
     "name": "stdout",
     "output_type": "stream",
     "text": [
      "[[4 2 1]\n",
      " [6 3 7]\n",
      " [8 5 9]]\n",
      "[[2 4 9]\n",
      " [1 5 6]\n",
      " [3 7 8]]\n"
     ]
    }
   ],
   "source": [
    "arr = np.array([[4, 2, 9], [6, 5, 1], [8, 3, 7]])\n",
    "\n",
    "print(np.sort(arr, axis=0))  # sorts along columns\n",
    "print(np.sort(arr, axis=1))  # sorts along rows"
   ]
  },
  {
   "cell_type": "markdown",
   "id": "cb3636b7-0b2f-4eef-ad31-e9e076927fd1",
   "metadata": {},
   "source": [
    "### Sorting with np.argsort\n",
    "np.argsort returns the indices of the sorted array."
   ]
  },
  {
   "cell_type": "code",
   "execution_count": 11,
   "id": "ebd5685c-7280-4ce3-b93d-b4e03a05ccbd",
   "metadata": {},
   "outputs": [
    {
     "name": "stdout",
     "output_type": "stream",
     "text": [
      "[5 1 7 0 4 3 8 6 2]\n",
      "[1 2 3 4 5 6 7 8 9]\n"
     ]
    }
   ],
   "source": [
    "arr = np.array([4, 2, 9, 6, 5, 1, 8, 3, 7])\n",
    "\n",
    "indices = np.argsort(arr)\n",
    "print(indices)  \n",
    "print(arr[indices])  "
   ]
  },
  {
   "cell_type": "markdown",
   "id": "d6fcf3b0-03d5-4981-8fd3-57553d728129",
   "metadata": {},
   "source": [
    "### Sorting with np.lexsort\n",
    "np.lexsort sorts arrays lexicographically (i.e., alphabetically)."
   ]
  },
  {
   "cell_type": "code",
   "execution_count": 14,
   "id": "8655e0f9-acc2-46ec-9787-9d90f1725b1b",
   "metadata": {},
   "outputs": [
    {
     "name": "stdout",
     "output_type": "stream",
     "text": [
      "[1 2 0]\n"
     ]
    }
   ],
   "source": [
    "arr = np.array([[4, 2, 9], [6, 5, 1], [8, 3, 7]])\n",
    "\n",
    "print(np.lexsort(arr.T))  # sorts along columns"
   ]
  },
  {
   "cell_type": "markdown",
   "id": "afc06277-3a81-4564-97a9-35f8a869f0f0",
   "metadata": {},
   "source": [
    "### Sorting with np.sort and kind Argument\n",
    "np.sort allows you to specify the sorting algorithm using the kind argument."
   ]
  },
  {
   "cell_type": "code",
   "execution_count": 17,
   "id": "37ebdf53-b07c-4389-aca2-f93ec725b7f2",
   "metadata": {},
   "outputs": [
    {
     "name": "stdout",
     "output_type": "stream",
     "text": [
      "[1 2 3 4 5 6 7 8 9]\n",
      "[1 2 3 4 5 6 7 8 9]\n",
      "[1 2 3 4 5 6 7 8 9]\n"
     ]
    }
   ],
   "source": [
    "arr = np.array([4, 2, 9, 6, 5, 1, 8, 3, 7])\n",
    "\n",
    "print(np.sort(arr, kind='quicksort'))  # uses quicksort algorithm\n",
    "print(np.sort(arr, kind='mergesort'))  # uses mergesort algorithm\n",
    "print(np.sort(arr, kind='heapsort'))  # uses heapsort algorithm"
   ]
  },
  {
   "cell_type": "markdown",
   "id": "5e34451e-5a5a-4312-8ae6-3f81d498c4cf",
   "metadata": {},
   "source": [
    "# Fast Sorting: `np.sort` and `np.argsort`\n",
    "\n",
    "`np.sort` returns a sorted copy of the input array, while `np.argsort` returns the indices of the sorted array.\n",
    "\n",
    "```python\n"
   ]
  },
  {
   "cell_type": "code",
   "execution_count": 21,
   "id": "7e529309-5439-437f-8cdb-2be410cac4e4",
   "metadata": {},
   "outputs": [
    {
     "name": "stdout",
     "output_type": "stream",
     "text": [
      "[1 2 3 4 5 6 7 8 9]\n",
      "[5 1 7 0 4 3 8 6 2]\n"
     ]
    }
   ],
   "source": [
    "import numpy as np\n",
    "\n",
    "arr = np.array([4, 2, 9, 6, 5, 1, 8, 3, 7])\n",
    "\n",
    "print(np.sort(arr))  \n",
    "print(np.argsort(arr))  "
   ]
  },
  {
   "cell_type": "markdown",
   "id": "4105b1af-96db-457a-9fb6-e4d15e63c1dc",
   "metadata": {},
   "source": [
    "#### Time Complexity\n",
    "\n",
    "| Function    | Complexity  | Algorithm     |\n",
    "|-------------|-------------|---------------|\n",
    "| `np.sort`   | O(n log n)  | Timsort       |\n",
    "| `np.argsort`| O(n log n)  | Counting sort |"
   ]
  },
  {
   "cell_type": "markdown",
   "id": "e5bd4ade-ca74-4514-a571-e27861c5719c",
   "metadata": {},
   "source": [
    "# Partial Sorting: np.partition\n",
    "np.partition partially sorts the input array, selecting the k-th smallest element."
   ]
  },
  {
   "cell_type": "code",
   "execution_count": 26,
   "id": "be4af0bf-d43d-423a-8835-96e85290c868",
   "metadata": {},
   "outputs": [
    {
     "name": "stdout",
     "output_type": "stream",
     "text": [
      "[1 2 3 4 5 6 8 9 7]\n"
     ]
    }
   ],
   "source": [
    "arr = np.array([4, 2, 9, 6, 5, 1, 8, 3, 7])\n",
    "\n",
    "k = 3\n",
    "print(np.partition(arr, k)) "
   ]
  },
  {
   "cell_type": "markdown",
   "id": "a6577b0c-df9a-48c7-902c-2e042cadc12b",
   "metadata": {},
   "source": [
    "#### Time Complexity\n",
    "\n",
    " `np.partition`: O(n) using introselect algorithm"
   ]
  },
  {
   "cell_type": "code",
   "execution_count": null,
   "id": "3854cd2c-8a04-4181-8c1d-42869ab286bd",
   "metadata": {},
   "outputs": [],
   "source": []
  }
 ],
 "metadata": {
  "kernelspec": {
   "display_name": "Python 3 (ipykernel)",
   "language": "python",
   "name": "python3"
  },
  "language_info": {
   "codemirror_mode": {
    "name": "ipython",
    "version": 3
   },
   "file_extension": ".py",
   "mimetype": "text/x-python",
   "name": "python",
   "nbconvert_exporter": "python",
   "pygments_lexer": "ipython3",
   "version": "3.12.4"
  }
 },
 "nbformat": 4,
 "nbformat_minor": 5
}
