{
 "cells": [
  {
   "cell_type": "markdown",
   "id": "4cc7cf11-1946-48b9-97a8-12bb0ee6ea3c",
   "metadata": {},
   "source": [
    "# **NumPy Data Types**\n",
    "A data type is a way to specify the type of data that will be stored in an array."
   ]
  },
  {
   "cell_type": "markdown",
   "id": "63bfbe91-4dfd-433a-961c-3c7815319e0f",
   "metadata": {},
   "source": [
    "## NumPy Data Types\n",
    "Here's the list of most commonly used numeric data types in NumPy: \r",
    "evels"
   ]
  },
  {
   "cell_type": "raw",
   "id": "ce56a70e-ca0f-41d5-86e0-8c224d3cfa9a",
   "metadata": {},
   "source": [
    "int8, int16, int32, int64 - signed integer types with different bit sizes\n",
    "uint8, uint16, uint32, uint64 - unsigned integer types with different bit sizes\n",
    "float32, float64 - floating-point types with different precision levels\n",
    "complex64, complex128 - complex number types with different precision levels"
   ]
  },
  {
   "cell_type": "markdown",
   "id": "19acb0fe-47fb-4aea-8e5a-9ecedcace01b",
   "metadata": {},
   "source": [
    "| Data type\t    | Description |\n",
    "|---------------|-------------|\n",
    "| ``bool_``     | Boolean (True or False) stored as a byte |\n",
    "| ``int_``      | Default integer type (same as C ``long``; normally either ``int64`` or ``int32``)| \n",
    "| ``intc``      | Identical to C ``int`` (normally ``int32`` or ``int64``)| \n",
    "| ``intp``      | Integer used for indexing (same as C ``ssize_t``; normally either ``int32`` or ``int64``)| \n",
    "| ``int8``      | Byte (-128 to 127)| \n",
    "| ``int16``     | Integer (-32768 to 32767)|\n",
    "| ``int32``     | Integer (-2147483648 to 2147483647)|\n",
    "| ``int64``     | Integer (-9223372036854775808 to 9223372036854775807)| \n",
    "| ``uint8``     | Unsigned integer (0 to 255)| \n",
    "| ``uint16``    | Unsigned integer (0 to 65535)| \n",
    "| ``uint32``    | Unsigned integer (0 to 4294967295)| \n",
    "| ``uint64``    | Unsigned integer (0 to 18446744073709551615)| \n",
    "| ``float_``    | Shorthand for ``float64``.| \n",
    "| ``float16``   | Half precision float: sign bit, 5 bits exponent, 10 bits mantissa| \n",
    "| ``float32``   | Single precision float: sign bit, 8 bits exponent, 23 bits mantissa| \n",
    "| ``float64``   | Double precision float: sign bit, 11 bits exponent, 52 bits mantissa| \n",
    "| ``complex_``  | Shorthand for ``complex128``.| \n",
    "| ``complex64`` | Complex number, represented by two 32-bit floats| \n",
    "| ``complex128``| Complex number, represented by two 64-bit floats| "
   ]
  },
  {
   "cell_type": "markdown",
   "id": "73118af3-1310-4f82-b646-76d96058468d",
   "metadata": {},
   "source": [
    "## Check Data Type of a NumPy Array\n",
    "To check the data type of a NumPy array, we can use the **dtype** attribute."
   ]
  },
  {
   "cell_type": "code",
   "execution_count": 10,
   "id": "70cba648-20db-4765-a8ee-3b07f45bd3a3",
   "metadata": {},
   "outputs": [
    {
     "name": "stdout",
     "output_type": "stream",
     "text": [
      "int32\n"
     ]
    }
   ],
   "source": [
    "import numpy as np\n",
    "\n",
    "# create an array of integers \n",
    "array1 = np.array([2, 4, 6])\n",
    "\n",
    "# check the data type of array1\n",
    "print(array1.dtype) "
   ]
  },
  {
   "cell_type": "markdown",
   "id": "f1809b16-c185-4c23-b42d-33229dc676a3",
   "metadata": {},
   "source": [
    "### Example: Check Data Type of NumPy Array"
   ]
  },
  {
   "cell_type": "code",
   "execution_count": 13,
   "id": "0c4fc62a-b0f4-44df-beb2-363f823fc824",
   "metadata": {},
   "outputs": [
    {
     "name": "stdout",
     "output_type": "stream",
     "text": [
      "int32\n",
      "float64\n",
      "complex128\n"
     ]
    }
   ],
   "source": [
    "import numpy as np\n",
    "\n",
    "# create an array of  integers\n",
    "int_array = np.array([-3, -1, 0, 1])\n",
    "\n",
    "# create an array of floating-point numbers\n",
    "float_array = np.array([0.1, 0.2, 0.3])\n",
    "\n",
    "# create an array of complex numbers\n",
    "complex_array = np.array([1+2j, 2+3j, 3+4j])\n",
    "\n",
    "# check the data type of int_array\n",
    "print(int_array.dtype)  \n",
    "\n",
    "# check the data type of float_array\n",
    "print(float_array.dtype)  \n",
    "\n",
    "# check the data type of complex_array\n",
    "print(complex_array.dtype)  "
   ]
  },
  {
   "cell_type": "markdown",
   "id": "f7acbf15-37c6-4f2a-975a-329f798646de",
   "metadata": {},
   "source": [
    "## Creating NumPy Arrays With a Defined Data Type\n",
    "In NumPy, we can create an array with a defined data type by passing the dtype parameter while calling the **np.array()** function."
   ]
  },
  {
   "cell_type": "code",
   "execution_count": 17,
   "id": "220bcf92-5c16-40b8-b86e-42ff9bdfac0f",
   "metadata": {},
   "outputs": [
    {
     "name": "stdout",
     "output_type": "stream",
     "text": [
      "[1 3 7] int32\n"
     ]
    }
   ],
   "source": [
    "import numpy as np\n",
    "\n",
    "# create an array of 32-bit integers\n",
    "array1 = np.array([1, 3, 7], dtype='int32')\n",
    "\n",
    "print(array1, array1.dtype)"
   ]
  },
  {
   "cell_type": "markdown",
   "id": "34d76a65-b94d-45b2-b285-44b9a1ec38cd",
   "metadata": {},
   "source": [
    "### Example: Creating NumPy Arrays With a Defined Data Type\n"
   ]
  },
  {
   "cell_type": "code",
   "execution_count": 22,
   "id": "e0e7f35e-6e30-4f5e-b79e-0b5914138662",
   "metadata": {},
   "outputs": [
    {
     "name": "stdout",
     "output_type": "stream",
     "text": [
      "[1 3 7] int8\n",
      "[2 4 6] uint16\n",
      "[1.2 2.3 3.4] float32\n",
      "[1.+2.j 2.+3.j 3.+4.j] complex64\n"
     ]
    }
   ],
   "source": [
    "import numpy as np\n",
    "\n",
    "# create an array of 8-bit integers\n",
    "array1 = np.array([1, 3, 7], dtype='int8')\n",
    "\n",
    "# create an array of unsigned 16-bit integers\n",
    "array2 = np.array([2, 4, 6], dtype='uint16')\n",
    "\n",
    "# create an array of 32-bit floating-point numbers\n",
    "array3 = np.array([1.2, 2.3, 3.4], dtype='float32')\n",
    "\n",
    "# create an array of 64-bit complex numbers\n",
    "array4 = np.array([1+2j, 2+3j, 3+4j], dtype='complex64')\n",
    "\n",
    "# print the arrays and their data types\n",
    "print(array1, array1.dtype)\n",
    "print(array2, array2.dtype)\n",
    "print(array3, array3.dtype)\n",
    "print(array4, array4.dtype)"
   ]
  },
  {
   "cell_type": "markdown",
   "id": "2cf03c54-34c4-4fac-aad4-23117cf716b1",
   "metadata": {},
   "source": [
    "## NumPy Type Conversion\n",
    "In NumPy, we can convert the data type of an array using the **astype()** method."
   ]
  },
  {
   "cell_type": "code",
   "execution_count": 26,
   "id": "0fb5648a-d90e-4c39-ad8d-04094cf5d1c5",
   "metadata": {},
   "outputs": [
    {
     "name": "stdout",
     "output_type": "stream",
     "text": [
      "[1 3 5 7] int32\n",
      "[1. 3. 5. 7.] float64\n"
     ]
    }
   ],
   "source": [
    "import numpy as np\n",
    "\n",
    "# create an array of integers\n",
    "int_array = np.array([1, 3, 5, 7])\n",
    "\n",
    "# convert data type of int_array to float\n",
    "float_array = int_array.astype('float')\n",
    "\n",
    "# print the arrays and their data types\n",
    "print(int_array, int_array.dtype)\n",
    "print(float_array, float_array.dtype)"
   ]
  },
  {
   "cell_type": "code",
   "execution_count": null,
   "id": "16f4ce2f-c29e-4448-8b9e-3215f8d9afcb",
   "metadata": {},
   "outputs": [],
   "source": []
  }
 ],
 "metadata": {
  "kernelspec": {
   "display_name": "Python 3 (ipykernel)",
   "language": "python",
   "name": "python3"
  },
  "language_info": {
   "codemirror_mode": {
    "name": "ipython",
    "version": 3
   },
   "file_extension": ".py",
   "mimetype": "text/x-python",
   "name": "python",
   "nbconvert_exporter": "python",
   "pygments_lexer": "ipython3",
   "version": "3.12.4"
  }
 },
 "nbformat": 4,
 "nbformat_minor": 5
}
