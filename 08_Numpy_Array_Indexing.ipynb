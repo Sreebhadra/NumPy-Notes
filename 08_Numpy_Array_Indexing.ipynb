{
 "cells": [
  {
   "cell_type": "markdown",
   "id": "d3e2406e-c72f-40ff-b8b0-604589311abe",
   "metadata": {},
   "source": [
    "# Numpy Array Indexing\n",
    "In NumPy, each element in an array is associated with a number. The number is known as an array index."
   ]
  },
  {
   "cell_type": "markdown",
   "id": "dabaabd6-81b5-4ecf-9ef7-cdaeb5706bcc",
   "metadata": {},
   "source": [
    "## Access Array Elements Using Index\n",
    "We can use indices to access individual elements of a NumPy array."
   ]
  },
  {
   "cell_type": "code",
   "execution_count": 27,
   "id": "50f8a20b-6943-43db-85aa-31f55e34ee8a",
   "metadata": {},
   "outputs": [
    {
     "name": "stdout",
     "output_type": "stream",
     "text": [
      "1\n",
      "5\n",
      "9\n"
     ]
    }
   ],
   "source": [
    "import numpy as np\n",
    "\n",
    "array1 = np.array([1, 3, 5, 7, 9])\n",
    "\n",
    "# access numpy elements using index\n",
    "print(array1[0])    \n",
    "print(array1[2])    \n",
    "print(array1[4])    "
   ]
  },
  {
   "cell_type": "markdown",
   "id": "1ae13991-d935-4d76-9604-d10557a69b34",
   "metadata": {},
   "source": [
    "## Modify Array Elements Using Index\n",
    "We can use indices to change the value of an element in a NumPy array."
   ]
  },
  {
   "cell_type": "code",
   "execution_count": 6,
   "id": "db32e1c5-8179-4bb5-a45d-92163412103c",
   "metadata": {},
   "outputs": [
    {
     "name": "stdout",
     "output_type": "stream",
     "text": [
      "After modifying first element: [12  4  6  8 10]\n",
      "After modifying third element: [12  4 14  8 10]\n"
     ]
    }
   ],
   "source": [
    "import numpy as np\n",
    "\n",
    "# create a numpy array\n",
    "numbers = np.array([2, 4, 6, 8, 10])\n",
    "\n",
    "# change the value of the first element\n",
    "numbers[0] = 12\n",
    "print(\"After modifying first element:\",numbers)    # prints [12 4 6 8 10]\n",
    "\n",
    "# change the value of the third element\n",
    "numbers[2] = 14\n",
    "print(\"After modifying third element:\",numbers)    # prints [12 4 14 8 10]"
   ]
  },
  {
   "cell_type": "markdown",
   "id": "e49c392a-4f2a-4042-be20-e84ef6e4a208",
   "metadata": {},
   "source": [
    "## NumPy Negative Array Indexing\n",
    "NumPy allows negative indexing for its array. The index of -1 refers to the last item, -2 to the second last item and so on."
   ]
  },
  {
   "cell_type": "code",
   "execution_count": 29,
   "id": "9cff657c-1d23-4801-bbf9-3398640467fc",
   "metadata": {},
   "outputs": [
    {
     "name": "stdout",
     "output_type": "stream",
     "text": [
      "9\n",
      "7\n"
     ]
    }
   ],
   "source": [
    "import numpy as np\n",
    "\n",
    "# create a numpy array\n",
    "numbers = np.array([1, 3, 5, 7, 9])\n",
    "\n",
    "# access the last element\n",
    "print(numbers[-1])    \n",
    "\n",
    "# access the second-to-last element\n",
    "print(numbers[-2])    "
   ]
  },
  {
   "cell_type": "markdown",
   "id": "e49668ab-5834-484a-aff1-6fd0c38f17c4",
   "metadata": {},
   "source": [
    "## Modify Array Elements Using Negative Indexing\n",
    "Similar to regular indexing, we can also modify array elements using negative indexing."
   ]
  },
  {
   "cell_type": "code",
   "execution_count": 31,
   "id": "15287399-2cb5-4985-ac16-4817029a7ef4",
   "metadata": {},
   "outputs": [
    {
     "name": "stdout",
     "output_type": "stream",
     "text": [
      "[ 2  3  5  7 13]\n",
      "[ 2  3  5 17 13]\n"
     ]
    }
   ],
   "source": [
    "import numpy as np\n",
    "\n",
    "# create a numpy array\n",
    "numbers = np.array([2, 3, 5, 7, 11])\n",
    "\n",
    "# modify the last element\n",
    "numbers[-1] = 13\n",
    "print(numbers)    \n",
    "\n",
    "# modify the second-to-last element\n",
    "numbers[-2] = 17\n",
    "print(numbers)    "
   ]
  },
  {
   "cell_type": "markdown",
   "id": "930f7f58-a324-41f4-9031-94719513772d",
   "metadata": {},
   "source": [
    "## 2-D NumPy Array Indexing\n",
    "Array indexing in NumPy allows us to access and manipulate elements in a 2-D array."
   ]
  },
  {
   "cell_type": "code",
   "execution_count": 33,
   "id": "c897bbca-1676-43ff-bfb2-220d807f2d29",
   "metadata": {},
   "outputs": [
    {
     "name": "stdout",
     "output_type": "stream",
     "text": [
      "4th Element at 2nd Row: 15\n",
      "2nd Element at First Row: 3\n"
     ]
    }
   ],
   "source": [
    "import numpy as np\n",
    "\n",
    "# create a 2D array \n",
    "array1 = np.array([[1, 3, 5, 7], \n",
    "                       [9, 11, 13, 15],\n",
    "                       [2, 4, 6, 8]])\n",
    "\n",
    "# access the element at the second row and fourth column\n",
    "element1 = array1[1, 3]  \n",
    "print(\"4th Element at 2nd Row:\",element1)  \n",
    "\n",
    "# access the element at the first row and second column\n",
    "element2 = array1[0, 1]  \n",
    "print(\"2nd Element at First Row:\",element2)  "
   ]
  },
  {
   "cell_type": "markdown",
   "id": "19962c0c-f8f9-47ad-b7f0-abf5cc9cd0ae",
   "metadata": {},
   "source": [
    "## Access Row or Column of 2D Array Using Indexing\n",
    "In NumPy, we can access specific rows or columns of a 2-D array using array indexing."
   ]
  },
  {
   "cell_type": "code",
   "execution_count": 35,
   "id": "cf166ed2-62b4-4045-9840-b3bdf7b1a62a",
   "metadata": {},
   "outputs": [
    {
     "name": "stdout",
     "output_type": "stream",
     "text": [
      "Second Row: [7 9 2]\n",
      "Third Column: [5 2 8]\n"
     ]
    }
   ],
   "source": [
    "import numpy as np\n",
    "\n",
    "# create a 2D array \n",
    "array1 = np.array([[1, 3, 5], \n",
    "             [7, 9, 2], \n",
    "             [4, 6, 8]])\n",
    "\n",
    "# access the second row of the array\n",
    "second_row = array1[1, :]\n",
    "print(\"Second Row:\", second_row)  \n",
    "\n",
    "# access the third column of the array\n",
    "third_col = array1[:, 2]\n",
    "print(\"Third Column:\", third_col)  "
   ]
  },
  {
   "cell_type": "markdown",
   "id": "d52850f3-69b7-43b5-93a6-014c00aa9320",
   "metadata": {},
   "source": [
    "## 3-D NumPy Array Indexing\n",
    "We learned how to access elements in a 2D array. We can also access elements in higher dimensional arrays."
   ]
  },
  {
   "cell_type": "code",
   "execution_count": 25,
   "id": "83ec7f97-68d8-491f-beeb-c98cdc49edb4",
   "metadata": {},
   "outputs": [
    {
     "name": "stdout",
     "output_type": "stream",
     "text": [
      "22\n"
     ]
    }
   ],
   "source": [
    "import numpy as np\n",
    "\n",
    "# create a 3D array with shape (2, 3, 4)\n",
    "array1 = np.array([[[1, 2, 3, 4], \n",
    "                   [5, 6, 7, 8], \n",
    "                   [9, 10, 11, 12]],\n",
    "                     \n",
    "                    [[13, 14, 15, 16], \n",
    "                    [17, 18, 19, 20], \n",
    "                    [21, 22, 23, 24]]])\n",
    "\n",
    "# access a specific element of the array\n",
    "element = array1[1, 2, 1]\n",
    "# print the value of the element\n",
    "print(element)\n"
   ]
  },
  {
   "cell_type": "code",
   "execution_count": null,
   "id": "2c634f55-4200-4e8c-afbf-b26384c5ba66",
   "metadata": {},
   "outputs": [],
   "source": []
  }
 ],
 "metadata": {
  "kernelspec": {
   "display_name": "Python 3 (ipykernel)",
   "language": "python",
   "name": "python3"
  },
  "language_info": {
   "codemirror_mode": {
    "name": "ipython",
    "version": 3
   },
   "file_extension": ".py",
   "mimetype": "text/x-python",
   "name": "python",
   "nbconvert_exporter": "python",
   "pygments_lexer": "ipython3",
   "version": "3.12.4"
  }
 },
 "nbformat": 4,
 "nbformat_minor": 5
}
