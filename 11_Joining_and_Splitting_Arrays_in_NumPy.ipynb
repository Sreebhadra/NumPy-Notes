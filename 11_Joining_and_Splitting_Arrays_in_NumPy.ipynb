{
 "cells": [
  {
   "cell_type": "markdown",
   "id": "15a31c42-a531-4575-9c8c-e1142e37d54d",
   "metadata": {},
   "source": [
    "# **Joining and Splitting Arrays in NumPy**"
   ]
  },
  {
   "cell_type": "markdown",
   "id": "c6ed9401-87a4-4ede-95a9-4660122a785c",
   "metadata": {},
   "source": [
    "### Creating Arrays"
   ]
  },
  {
   "cell_type": "code",
   "execution_count": 7,
   "id": "d1dd3a38-9d8b-46d0-a9ca-0d2f90ce6e32",
   "metadata": {},
   "outputs": [],
   "source": [
    "import numpy as np\n",
    "\n",
    "# Create a 2D array\n",
    "grid = np.array([[1, 2, 3], [4, 5, 6]])\n",
    "\n",
    "# Create a 1D array\n",
    "x = np.array([7, 8, 9])\n",
    "\n",
    "# Create another 1D array\n",
    "y = np.array([10, 11, 12])"
   ]
  },
  {
   "cell_type": "markdown",
   "id": "974083a8-1276-4547-8940-4f3477a4ca3d",
   "metadata": {},
   "source": [
    "## Concatenating Arrays\n",
    "### Using np.concatenate"
   ]
  },
  {
   "cell_type": "code",
   "execution_count": 10,
   "id": "ea748bd0-8d41-4a5f-b664-1cfe9b3d1c3f",
   "metadata": {},
   "outputs": [
    {
     "name": "stdout",
     "output_type": "stream",
     "text": [
      "[[1 2 3]\n",
      " [4 5 6]\n",
      " [1 2 3]\n",
      " [4 5 6]]\n"
     ]
    }
   ],
   "source": [
    "# Concatenate along the first axis (default)\n",
    "concatenated = np.concatenate([grid, grid])\n",
    "print(concatenated)"
   ]
  },
  {
   "cell_type": "markdown",
   "id": "09649d3c-47fd-40a3-a3f0-1a2eef20b3e8",
   "metadata": {},
   "source": [
    "### Using np.vstack and np.hstack"
   ]
  },
  {
   "cell_type": "code",
   "execution_count": 3,
   "id": "5a0b4471-c37e-4915-a375-cda7b1097ca0",
   "metadata": {},
   "outputs": [
    {
     "name": "stdout",
     "output_type": "stream",
     "text": [
      "Original arrays:\n",
      "x: [1 2]\n",
      "y: [5 6]\n",
      "grid:\n",
      " [[1 2]\n",
      " [3 4]]\n",
      "\n",
      "Vertically stacked:\n",
      "[[1 2]\n",
      " [1 2]\n",
      " [3 4]]\n",
      "\n",
      "Horizontally stacked:\n",
      "[[1 2 5]\n",
      " [3 4 6]]\n"
     ]
    }
   ],
   "source": [
    "import numpy as np\n",
    "\n",
    "# Create sample arrays\n",
    "x = np.array([1, 2])\n",
    "y = np.array([5, 6])\n",
    "grid = np.array([[1, 2], [3, 4]])\n",
    "\n",
    "print(\"Original arrays:\")\n",
    "print(\"x:\", x)\n",
    "print(\"y:\", y)\n",
    "print(\"grid:\\n\", grid)\n",
    "\n",
    "# Vertically stack arrays\n",
    "vstacked = np.vstack([x, grid])\n",
    "print(\"\\nVertically stacked:\")\n",
    "print(vstacked)\n",
    "\n",
    "# Horizontally stack arrays\n",
    "hstacked = np.hstack([grid, y[:, None]])\n",
    "print(\"\\nHorizontally stacked:\")\n",
    "print(hstacked)"
   ]
  },
  {
   "cell_type": "markdown",
   "id": "92309169-609e-44da-bbff-30808bcc243c",
   "metadata": {},
   "source": [
    "### Using np.dstack"
   ]
  },
  {
   "cell_type": "code",
   "execution_count": 18,
   "id": "bdf412a5-1348-4f15-854f-1a5b7ded8177",
   "metadata": {},
   "outputs": [
    {
     "name": "stdout",
     "output_type": "stream",
     "text": [
      "[[[1 1]\n",
      "  [2 2]\n",
      "  [3 3]]\n",
      "\n",
      " [[4 4]\n",
      "  [5 5]\n",
      "  [6 6]]]\n"
     ]
    }
   ],
   "source": [
    "# Stack arrays along the third axis\n",
    "dstacked = np.dstack([grid, grid])\n",
    "print(dstacked)"
   ]
  },
  {
   "cell_type": "markdown",
   "id": "ac2d8603-037c-4983-8e69-035515326382",
   "metadata": {},
   "source": [
    "## Splitting Arrays\n",
    "### Using np.split"
   ]
  },
  {
   "cell_type": "code",
   "execution_count": 21,
   "id": "8aa82a6c-7365-41d0-8907-7c212189d9e4",
   "metadata": {},
   "outputs": [
    {
     "name": "stdout",
     "output_type": "stream",
     "text": [
      "[7 8 9] [] []\n"
     ]
    }
   ],
   "source": [
    "# Split an array at indices 3 and 5\n",
    "x1, x2, x3 = np.split(x, [3, 5])\n",
    "print(x1, x2, x3)"
   ]
  },
  {
   "cell_type": "markdown",
   "id": "8b25c203-2715-4954-ba57-140b44400fb6",
   "metadata": {},
   "source": [
    "### Using np.hsplit and np.vsplit"
   ]
  },
  {
   "cell_type": "code",
   "execution_count": 24,
   "id": "55418097-1501-4235-991e-94455cd15557",
   "metadata": {},
   "outputs": [
    {
     "name": "stdout",
     "output_type": "stream",
     "text": [
      "[[1 2]\n",
      " [4 5]] [[3]\n",
      " [6]]\n",
      "[[1 2 3]] [[4 5 6]]\n"
     ]
    }
   ],
   "source": [
    "# Horizontally split an array at index 2\n",
    "h1, h2 = np.hsplit(grid, [2])\n",
    "print(h1, h2)\n",
    "\n",
    "# Vertically split an array at index 1\n",
    "v1, v2 = np.vsplit(grid, [1])\n",
    "print(v1, v2)"
   ]
  },
  {
   "cell_type": "code",
   "execution_count": null,
   "id": "f8d6c795-f6e5-4e5d-ac25-c93743490b89",
   "metadata": {},
   "outputs": [],
   "source": []
  }
 ],
 "metadata": {
  "kernelspec": {
   "display_name": "Python 3 (ipykernel)",
   "language": "python",
   "name": "python3"
  },
  "language_info": {
   "codemirror_mode": {
    "name": "ipython",
    "version": 3
   },
   "file_extension": ".py",
   "mimetype": "text/x-python",
   "name": "python",
   "nbconvert_exporter": "python",
   "pygments_lexer": "ipython3",
   "version": "3.12.4"
  }
 },
 "nbformat": 4,
 "nbformat_minor": 5
}
