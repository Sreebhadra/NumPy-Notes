{
 "cells": [
  {
   "cell_type": "markdown",
   "id": "937b0e36-7aeb-48e8-9623-bdb1f57a6b6c",
   "metadata": {},
   "source": [
    "# **Structured Arrays and Record Arrays**\r\n",
    "\r\n",
    "Structured arrays and record arrays are two types of arrays in NumPy that allow you to store and manipulate data with multiple fields or column `age`."
   ]
  },
  {
   "cell_type": "markdown",
   "id": "71f59e32-c2dc-4aa5-a367-f84fbc679cf6",
   "metadata": {},
   "source": [
    "## **Structured Arrays in NumPy**\n",
    "\n",
    "Structured arrays are a powerful feature in NumPy that allow you to create arrays with multiple data types and fields. \n",
    "\n",
    "### Creating a Structured Array\n",
    "\n",
    "Let's create a structured array with two fields: `name` and `age`."
   ]
  },
  {
   "cell_type": "code",
   "execution_count": 19,
   "id": "56953b32-ad15-4b47-965d-ab1fcc37c95b",
   "metadata": {},
   "outputs": [
    {
     "name": "stdout",
     "output_type": "stream",
     "text": [
      "[(b'John', 25) (b'Mary', 31) (b'David', 42)]\n"
     ]
    }
   ],
   "source": [
    "import numpy as np\n",
    "\n",
    "# Define the dtype\n",
    "dtype = [('name', 'S10'), ('age', int)]\n",
    "\n",
    "# Create the structured array\n",
    "arr = np.array([('John', 25), ('Mary', 31), ('David', 42)], dtype=dtype)\n",
    "\n",
    "print(arr)"
   ]
  },
  {
   "cell_type": "markdown",
   "id": "7e5a1772-0732-4728-9e0a-8acc40a7ed25",
   "metadata": {},
   "source": [
    "### Accessing Fields\n",
    "We can access individual fields using the field name."
   ]
  },
  {
   "cell_type": "code",
   "execution_count": 22,
   "id": "04e390b2-3de4-4a19-b1ac-46169c39898d",
   "metadata": {},
   "outputs": [
    {
     "name": "stdout",
     "output_type": "stream",
     "text": [
      "[b'John' b'Mary' b'David']\n",
      "[25 31 42]\n"
     ]
    }
   ],
   "source": [
    "print(arr['name'])  \n",
    "print(arr['age'])   "
   ]
  },
  {
   "cell_type": "markdown",
   "id": "934c1acb-a15d-4047-9e6d-0e1a0d8ed727",
   "metadata": {},
   "source": [
    "### Assigning Values\n",
    "We can assign values to individual fields."
   ]
  },
  {
   "cell_type": "code",
   "execution_count": 25,
   "id": "161b245d-5e07-479d-86a4-45556cc42a0f",
   "metadata": {},
   "outputs": [
    {
     "name": "stdout",
     "output_type": "stream",
     "text": [
      "[(b'John', 30) (b'Mary', 30) (b'David', 30)]\n"
     ]
    }
   ],
   "source": [
    "arr['age'] = 30\n",
    "print(arr)"
   ]
  },
  {
   "cell_type": "markdown",
   "id": "f5ddf808-0bc2-43ff-b2ed-381ffdc1a51b",
   "metadata": {},
   "source": [
    "### Creating a Structured Array from a List of Dictionaries\n",
    "We can create a structured array from a list of dictionaries."
   ]
  },
  {
   "cell_type": "code",
   "execution_count": 28,
   "id": "6731b7f3-714a-4fe6-bb5f-f093e4cb37a1",
   "metadata": {},
   "outputs": [
    {
     "name": "stdout",
     "output_type": "stream",
     "text": [
      "[('John', 25) ('Mary', 31) ('David', 42)]\n"
     ]
    }
   ],
   "source": [
    "import numpy as np\n",
    "\n",
    "data = [{'name': 'John', 'age': 25}, {'name': 'Mary', 'age': 31}, {'name': 'David', 'age': 42}]\n",
    "\n",
    "# Define the dtype\n",
    "dtype = [('name', 'U10'), ('age', int)]\n",
    "\n",
    "# Create the NumPy array\n",
    "arr = np.array([(d['name'], d['age']) for d in data], dtype=dtype)\n",
    "\n",
    "print(arr)"
   ]
  },
  {
   "cell_type": "markdown",
   "id": "55a9425e-9dd9-4ad2-b88e-380bba3bb23b",
   "metadata": {},
   "source": [
    "## Structured Array Operations\n",
    "Structured arrays support various operations, such as sorting and indexing."
   ]
  },
  {
   "cell_type": "code",
   "execution_count": 31,
   "id": "5ff31068-0741-425e-83ac-49b10374db28",
   "metadata": {},
   "outputs": [
    {
     "name": "stdout",
     "output_type": "stream",
     "text": [
      "[('John', 25) ('Mary', 31) ('David', 42)]\n",
      "('John', 25)\n"
     ]
    }
   ],
   "source": [
    "# Sort the array by age\n",
    "arr.sort(order='age')\n",
    "print(arr)\n",
    "\n",
    "# Indexing\n",
    "print(arr[0])  "
   ]
  },
  {
   "cell_type": "markdown",
   "id": "11ef416f-1228-40f0-963e-40cdc3160c1a",
   "metadata": {},
   "source": [
    "## **Record Arrays**\n",
    "Record arrays are a type of structured array that allows you to access fields using attributes instead of indexing"
   ]
  },
  {
   "cell_type": "code",
   "execution_count": 34,
   "id": "8448a617-6f07-4f04-9237-bd8f44267dd1",
   "metadata": {},
   "outputs": [
    {
     "name": "stdout",
     "output_type": "stream",
     "text": [
      "['John' 'Mary' 'David']\n",
      "[25 31 42]\n"
     ]
    }
   ],
   "source": [
    "import numpy as np\n",
    "\n",
    "data = [{'name': 'John', 'age': 25}, {'name': 'Mary', 'age': 31}, {'name': 'David', 'age': 42}]\n",
    "\n",
    "# Define the dtype\n",
    "dtype = [('name', 'U10'), ('age', int)]\n",
    "\n",
    "# Create the structured array\n",
    "structured_arr = np.array([(d['name'], d['age']) for d in data], dtype=dtype)\n",
    "\n",
    "# Create a record array from the structured array\n",
    "record_data = np.rec.array(structured_arr)\n",
    "\n",
    "print(record_data.name)  \n",
    "print(record_data.age)  "
   ]
  },
  {
   "cell_type": "markdown",
   "id": "8f6c32e9-da9b-43bc-bd07-74c01c2c1fed",
   "metadata": {},
   "source": [
    "## Advantages of Structured Arrays\n",
    "Structured arrays offer several advantages, including:\n",
    "\n",
    "- Efficient storage and access of data\n",
    "- Ability to work with multiple data types and fields\n",
    "- Support for various operations, such as sorting and indexing"
   ]
  },
  {
   "cell_type": "markdown",
   "id": "6bedf2b1-c75e-410d-b994-27d930ae1607",
   "metadata": {},
   "source": [
    "## Comparison of Structured Arrays and Record Arrays\n",
    "\n",
    "| Feature | Structured Arrays | Record Arrays |\n",
    "|---------|-------------------|---------------|\n",
    "| **Accessing fields** | Using indexing (e.g. `data['name']`) | Using attributes (e.g. `record_data.name`) |\n",
    "| **Data type** | Custom data type with multiple fields | Record data type with multiple fields |\n",
    "| **Memory usage** | More memory-efficient than record arrays | Less memory-efficient than structured arrays |"
   ]
  },
  {
   "cell_type": "markdown",
   "id": "6a0392b0-b4a4-4147-9a73-fb90e9742afe",
   "metadata": {},
   "source": [
    "## Advantages of Structured Arrays and Record Arrays\n",
    "\n",
    "Structured arrays and record arrays offer several benefits:\n",
    "\n",
    "* **Efficient storage**: \n",
    "  - Can store data more efficiently than regular arrays\n",
    "\n",
    "* **Easy access**: \n",
    "  - Allow for easy access to individual fields or columns\n",
    "\n",
    "* **Flexible data types**: \n",
    "  - Can store data with different data types\n",
    "\n",
    "*"
   ]
  },
  {
   "cell_type": "code",
   "execution_count": null,
   "id": "92699fb6-156f-45c8-a337-cce6682ee7ea",
   "metadata": {},
   "outputs": [],
   "source": []
  }
 ],
 "metadata": {
  "kernelspec": {
   "display_name": "Python 3 (ipykernel)",
   "language": "python",
   "name": "python3"
  },
  "language_info": {
   "codemirror_mode": {
    "name": "ipython",
    "version": 3
   },
   "file_extension": ".py",
   "mimetype": "text/x-python",
   "name": "python",
   "nbconvert_exporter": "python",
   "pygments_lexer": "ipython3",
   "version": "3.12.4"
  }
 },
 "nbformat": 4,
 "nbformat_minor": 5
}
