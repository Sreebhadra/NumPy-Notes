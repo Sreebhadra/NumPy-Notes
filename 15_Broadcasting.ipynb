{
 "cells": [
  {
   "cell_type": "markdown",
   "id": "3736b602-9652-4cf9-aa0a-750d0cde694c",
   "metadata": {},
   "source": [
    "# **Broadcasting**\n",
    "\n",
    "Broadcasting is a powerful feature in NumPy that allows you to perform operations on arrays with different shapes and sizes.\n",
    "\n",
    "### What is Broadcasting?\n",
    "\n",
    "Broadcasting is a set of rules that allows NumPy to perform operations on arrays with different shapes and sizes. It allows you to perform operations on arrays that would not be possible with traditional matrix multiplication.\n",
    "\n",
    "### How Broadcasting Works\n",
    "\n",
    "Broadcasting works by aligning the arrays along their axes and performing the operation element-wise. The rules of broadcasting are as follows:\n",
    "\n",
    "1. If the two arrays differ in their number of dimensions, the shape of the one with fewer dimensions is padded with ones on its leading (left) side.\n",
    "2. If the shape of the two arrays does not match in any dimension, the array with the size of one in that dimension is broadcasted to have the size of the other array in that dimension.\n",
    "3. If the size of the two arrays does not match in any dimension, an error is raised."
   ]
  },
  {
   "cell_type": "code",
   "execution_count": 4,
   "id": "47cd536e-9340-4446-9c0a-13c2f271c08a",
   "metadata": {},
   "outputs": [
    {
     "name": "stdout",
     "output_type": "stream",
     "text": [
      "[2 4 6]\n"
     ]
    }
   ],
   "source": [
    "import numpy as np\n",
    "\n",
    "# create two arrays\n",
    "array1 = np.array([1, 2, 3])\n",
    "array2 = np.array([2])\n",
    "\n",
    "# perform element-wise multiplication\n",
    "print(array1 * array2) \n",
    "\n",
    "#In this example, array2 is broadcasted to have the same shape as array1 by repeating its value along the axis.\n",
    "#The resulting array is the element-wise product of the two arrays."
   ]
  },
  {
   "cell_type": "markdown",
   "id": "6b29a8f1-74b0-4d82-a350-8257d353694b",
   "metadata": {},
   "source": [
    "## Broadcasting Rules\n",
    "### Rule 1: If the two arrays differ in their number of dimensions, the shape of the one with fewer dimensions is padded with ones on its leading (left) side.\n"
   ]
  },
  {
   "cell_type": "code",
   "execution_count": 9,
   "id": "bb083dff-c651-49c3-987b-8a75e6cdf4bd",
   "metadata": {},
   "outputs": [
    {
     "name": "stdout",
     "output_type": "stream",
     "text": [
      "[[5 6 7]\n",
      " [6 7 8]\n",
      " [7 8 9]]\n"
     ]
    }
   ],
   "source": [
    "import numpy as np\n",
    "\n",
    "arr1 = np.array([1, 2, 3])\n",
    "arr2 = np.array([[4], [5], [6]])\n",
    "\n",
    "print(arr1 + arr2)"
   ]
  },
  {
   "cell_type": "markdown",
   "id": "3bc14ab9-c571-440e-9994-7b195c3e6f81",
   "metadata": {},
   "source": [
    "### Rule 2: If the shape of the two arrays does not match in any dimension, the array with the size of one in that dimension is broadcasted."
   ]
  },
  {
   "cell_type": "code",
   "execution_count": 12,
   "id": "cec2eaab-4c1d-4775-ae3b-093dbdaa16fb",
   "metadata": {},
   "outputs": [
    {
     "name": "stdout",
     "output_type": "stream",
     "text": [
      "[[5 7 9]]\n"
     ]
    }
   ],
   "source": [
    "arr1 = np.array([[1, 2, 3]])\n",
    "arr2 = np.array([4, 5, 6])\n",
    "\n",
    "print(arr1 + arr2)"
   ]
  },
  {
   "cell_type": "markdown",
   "id": "ee27b300-e0e0-4f31-bb92-035a5fcd41e3",
   "metadata": {},
   "source": [
    "### Rule 3: If the shape of the two arrays matches in all dimensions, the arrays are broadcasted element-wise."
   ]
  },
  {
   "cell_type": "code",
   "execution_count": 15,
   "id": "7dfd0e6e-39a9-422b-9dc5-4e219a423bef",
   "metadata": {},
   "outputs": [
    {
     "name": "stdout",
     "output_type": "stream",
     "text": [
      "[[ 8 10 12]\n",
      " [14 16 18]]\n"
     ]
    }
   ],
   "source": [
    "arr1 = np.array([[1, 2, 3], [4, 5, 6]])\n",
    "arr2 = np.array([[7, 8, 9], [10, 11, 12]])\n",
    "\n",
    "print(arr1 + arr2)"
   ]
  },
  {
   "cell_type": "markdown",
   "id": "a456b304-46c0-4c87-89c3-770d46b11449",
   "metadata": {},
   "source": [
    "## Broadcasting Examples\n",
    "### Adding a scalar to an array"
   ]
  },
  {
   "cell_type": "code",
   "execution_count": 20,
   "id": "7850c1e9-9d0d-4fd9-9554-5da15e23d11e",
   "metadata": {},
   "outputs": [
    {
     "name": "stdout",
     "output_type": "stream",
     "text": [
      "[[3 4 5]\n",
      " [6 7 8]]\n"
     ]
    }
   ],
   "source": [
    "arr = np.array([[1, 2, 3], [4, 5, 6]])\n",
    "\n",
    "print(arr + 2)"
   ]
  },
  {
   "cell_type": "markdown",
   "id": "e4c8b0d3-262b-4f12-b609-97906b0d15d0",
   "metadata": {},
   "source": [
    "### Adding a 1D array to a 2D array"
   ]
  },
  {
   "cell_type": "code",
   "execution_count": 23,
   "id": "f851c47b-0ab2-44fd-b76c-5733804abb03",
   "metadata": {},
   "outputs": [
    {
     "name": "stdout",
     "output_type": "stream",
     "text": [
      "[[11 22 33]\n",
      " [14 25 36]]\n"
     ]
    }
   ],
   "source": [
    "arr = np.array([[1, 2, 3], [4, 5, 6]])\n",
    "arr2 = np.array([10, 20, 30])\n",
    "\n",
    "print(arr + arr2)"
   ]
  },
  {
   "cell_type": "markdown",
   "id": "539f7605-3ee6-4427-bd34-30a8795f8650",
   "metadata": {},
   "source": [
    "### Adding a 2D array to a 2D array"
   ]
  },
  {
   "cell_type": "code",
   "execution_count": 26,
   "id": "cc3bafdb-a3a6-48a1-aecb-697b5c0c90c7",
   "metadata": {},
   "outputs": [
    {
     "name": "stdout",
     "output_type": "stream",
     "text": [
      "[[11 22 33]\n",
      " [44 55 66]]\n"
     ]
    }
   ],
   "source": [
    "arr = np.array([[1, 2, 3], [4, 5, 6]])\n",
    "arr2 = np.array([[10, 20, 30], [40, 50, 60]])\n",
    "\n",
    "print(arr + arr2)"
   ]
  },
  {
   "cell_type": "code",
   "execution_count": null,
   "id": "cbbf0cf8-3400-4254-89dd-2857f73f973e",
   "metadata": {},
   "outputs": [],
   "source": []
  }
 ],
 "metadata": {
  "kernelspec": {
   "display_name": "Python 3 (ipykernel)",
   "language": "python",
   "name": "python3"
  },
  "language_info": {
   "codemirror_mode": {
    "name": "ipython",
    "version": 3
   },
   "file_extension": ".py",
   "mimetype": "text/x-python",
   "name": "python",
   "nbconvert_exporter": "python",
   "pygments_lexer": "ipython3",
   "version": "3.12.4"
  }
 },
 "nbformat": 4,
 "nbformat_minor": 5
}
