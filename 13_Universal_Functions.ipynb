{
 "cells": [
  {
   "cell_type": "markdown",
   "id": "ccd0062e-18e8-4d4a-b3ce-2ba0f192f68d",
   "metadata": {},
   "source": [
    "#  **Universal Functions (ufuncs)**\n",
    "\n",
    "Universal functions (ufuncs) are a set of functions in NumPy that perform element-wise operations on arrays.\n",
    "\n",
    "### What are ufuncs?\n",
    "\n",
    "ufuncs are a set of functions that perform element-wise operations on arrays. They are called \"universal\" because they can operate on arrays with different shapes and sizes.\n",
    "\n",
    "### Examples of ufuncs\n",
    "\n",
    "Some examples of ufuncs include:\n",
    "\n",
    "* `np.add`: performs element-wise addition\n",
    "* `np.subtract`: performs element-wise subtraction\n",
    "* `np.multiply`: performs element-wise multiplication\n",
    "* `np.divide`: performs element-wise division\n",
    "* `np.sin`: performs element-wise sine operation\n",
    "* `np.cos`: performs element-wise cosine operation"
   ]
  },
  {
   "cell_type": "code",
   "execution_count": 5,
   "id": "1c3f3657-7545-48a7-8cb1-69831c4f2ca3",
   "metadata": {},
   "outputs": [
    {
     "name": "stdout",
     "output_type": "stream",
     "text": [
      "[  0  10  20  30  40  50  60  70  80  90 100]\n"
     ]
    }
   ],
   "source": [
    "import numpy as np\n",
    "\n",
    "# MULTIPLY BY A SCALARS\n",
    "nparr = np.array([0, 1, 2, 3, 4, 5, 6, 7, 8, 9, 10])\n",
    "nparr_esc = nparr * 10\n",
    "print(nparr_esc)"
   ]
  },
  {
   "cell_type": "code",
   "execution_count": 9,
   "id": "ca944a03-0830-428d-8324-ad67b8e3e02d",
   "metadata": {},
   "outputs": [
    {
     "name": "stdout",
     "output_type": "stream",
     "text": [
      "[ 1.   0.5  inf -1. ]\n"
     ]
    },
    {
     "name": "stderr",
     "output_type": "stream",
     "text": [
      "C:\\Users\\Admin\\AppData\\Local\\Temp\\ipykernel_14796\\3240388874.py:7: RuntimeWarning: divide by zero encountered in divide\n",
      "  nparr_one_div = 1/nparr\n"
     ]
    }
   ],
   "source": [
    "import numpy as np\n",
    "\n",
    "# Define nparr\n",
    "nparr = np.array([1, 2, 0, -1])\n",
    "\n",
    "# ONE DIVIDED BY ZERO\n",
    "nparr_one_div = 1/nparr\n",
    "print(nparr_one_div)\n"
   ]
  },
  {
   "cell_type": "code",
   "execution_count": 9,
   "id": "74edf9d6-2bc5-4bae-a845-9972a53b13f4",
   "metadata": {},
   "outputs": [
    {
     "name": "stdout",
     "output_type": "stream",
     "text": [
      "[  0   1   4   9  16  25  36  49  64  81 100]\n",
      "[  0   1   4   9  16  25  36  49  64  81 100]\n"
     ]
    }
   ],
   "source": [
    "\n",
    "# EXPONENT — ARRAYS — Squaring everything — Two options\n",
    "np_arr_exp1 = nparr ** 2\n",
    "print(np_arr_exp1)\n",
    "np_arr_exp2 = np.square(nparr)\n",
    "print(np_arr_exp2)\n"
   ]
  },
  {
   "cell_type": "code",
   "execution_count": 11,
   "id": "8931f428-2ad1-4ec0-91fe-135c09258f04",
   "metadata": {},
   "outputs": [
    {
     "name": "stdout",
     "output_type": "stream",
     "text": [
      "[0.         1.         1.41421356 1.73205081 2.         2.23606798\n",
      " 2.44948974 2.64575131 2.82842712 3.         3.16227766]\n"
     ]
    }
   ],
   "source": [
    "\n",
    "# SQUARE ROOT\n",
    "nparr_sr = np.sqrt(nparr)\n",
    "print(nparr_sr)\n",
    "\n"
   ]
  },
  {
   "cell_type": "code",
   "execution_count": 13,
   "id": "36270e1a-7d22-4952-9373-7fd68b074eb7",
   "metadata": {},
   "outputs": [
    {
     "name": "stdout",
     "output_type": "stream",
     "text": [
      "[1.00000000e+00 2.71828183e+00 7.38905610e+00 2.00855369e+01\n",
      " 5.45981500e+01 1.48413159e+02 4.03428793e+02 1.09663316e+03\n",
      " 2.98095799e+03 8.10308393e+03 2.20264658e+04]\n"
     ]
    }
   ],
   "source": [
    "# EXPONENTIAL WITH ARRAYS\n",
    "np_arr_exp3 = np.exp(nparr)\n",
    "print(np_arr_exp3)\n",
    "\n"
   ]
  },
  {
   "cell_type": "code",
   "execution_count": 15,
   "id": "2ba87a8f-459b-4881-b87d-72f82b0352ac",
   "metadata": {},
   "outputs": [
    {
     "name": "stdout",
     "output_type": "stream",
     "text": [
      "10\n",
      "0\n"
     ]
    }
   ],
   "source": [
    "# MAX & MIN\n",
    "nparr_max = np.max(nparr)\n",
    "print(nparr_max)\n",
    "nparr_min = np.min(nparr)\n",
    "print(nparr_min)"
   ]
  },
  {
   "cell_type": "code",
   "execution_count": 17,
   "id": "1c582987-4cb2-48e7-94e3-6143a0c62ae8",
   "metadata": {},
   "outputs": [
    {
     "name": "stdout",
     "output_type": "stream",
     "text": [
      "[ 0.          0.84147098  0.90929743  0.14112001 -0.7568025  -0.95892427\n",
      " -0.2794155   0.6569866   0.98935825  0.41211849 -0.54402111]\n",
      "[ 1.          0.54030231 -0.41614684 -0.9899925  -0.65364362  0.28366219\n",
      "  0.96017029  0.75390225 -0.14550003 -0.91113026 -0.83907153]\n",
      "[ 0.          1.55740772 -2.18503986 -0.14254654  1.15782128 -3.38051501\n",
      " -0.29100619  0.87144798 -6.79971146 -0.45231566  0.64836083]\n"
     ]
    }
   ],
   "source": [
    "# TRIGONOMETRIC\n",
    "nparr_sin = np.sin(nparr)\n",
    "print(nparr_sin)\n",
    "nparr_cos = np.cos(nparr)\n",
    "print(nparr_cos)\n",
    "nparr_tan = np.tan(nparr)\n",
    "print(nparr_tan)"
   ]
  },
  {
   "cell_type": "code",
   "execution_count": 13,
   "id": "ad6e6ece-a0d4-469f-8e28-18bf1f8eca16",
   "metadata": {},
   "outputs": [
    {
     "name": "stdout",
     "output_type": "stream",
     "text": [
      "[ 1.57079633         nan  0.         -1.57079633]\n",
      "[0.                nan 1.57079633 3.14159265]\n",
      "[ 0.78539816  1.10714872  0.         -0.78539816]\n"
     ]
    },
    {
     "name": "stderr",
     "output_type": "stream",
     "text": [
      "C:\\Users\\Admin\\AppData\\Local\\Temp\\ipykernel_14796\\2973068308.py:8: RuntimeWarning: invalid value encountered in arcsin\n",
      "  nparr_arcsin = np.arcsin(nparr)\n",
      "C:\\Users\\Admin\\AppData\\Local\\Temp\\ipykernel_14796\\2973068308.py:11: RuntimeWarning: invalid value encountered in arccos\n",
      "  nparr_arccos = np.arccos(nparr)\n"
     ]
    }
   ],
   "source": [
    "# INVERSE TRIGONOMETRIC\n",
    "nparr_arcsin = np.arcsin(nparr)\n",
    "print(nparr_arcsin)\n",
    "nparr_arccos = np.arccos(nparr)\n",
    "print(nparr_arccos)\n",
    "nparr_arctan = np.arctan(nparr)\n",
    "print(nparr_arctan)"
   ]
  },
  {
   "cell_type": "code",
   "execution_count": 21,
   "id": "72da07f4-881d-4dcf-857f-137fe2ba5202",
   "metadata": {},
   "outputs": [
    {
     "name": "stdout",
     "output_type": "stream",
     "text": [
      "[0.00000000e+00 1.17520119e+00 3.62686041e+00 1.00178749e+01\n",
      " 2.72899172e+01 7.42032106e+01 2.01713157e+02 5.48316123e+02\n",
      " 1.49047883e+03 4.05154190e+03 1.10132329e+04]\n",
      "[1.00000000e+00 1.54308063e+00 3.76219569e+00 1.00676620e+01\n",
      " 2.73082328e+01 7.42099485e+01 2.01715636e+02 5.48317035e+02\n",
      " 1.49047916e+03 4.05154203e+03 1.10132329e+04]\n",
      "[0.         0.76159416 0.96402758 0.99505475 0.9993293  0.9999092\n",
      " 0.99998771 0.99999834 0.99999977 0.99999997 1.        ]\n"
     ]
    }
   ],
   "source": [
    "# HYPERBOLIC\n",
    "nparr_sinh = np.sinh(nparr)\n",
    "print(nparr_sinh)\n",
    "nparr_cosh = np.cosh(nparr)\n",
    "print(nparr_cosh)\n",
    "nparr_tanh = np.tanh(nparr)\n",
    "print(nparr_tanh)"
   ]
  },
  {
   "cell_type": "code",
   "execution_count": 23,
   "id": "4da2f5b5-6416-4005-b362-b0be0392ca9e",
   "metadata": {},
   "outputs": [
    {
     "name": "stdout",
     "output_type": "stream",
     "text": [
      "[0.         0.88137359 1.44363548 1.81844646 2.09471255 2.31243834\n",
      " 2.49177985 2.64412076 2.77647228 2.89344399 2.99822295]\n",
      "[       nan 0.         1.3169579  1.76274717 2.06343707 2.29243167\n",
      " 2.47788873 2.63391579 2.76865938 2.88727095 2.99322285]\n",
      "[ 0. inf nan nan nan nan nan nan nan nan nan]\n"
     ]
    },
    {
     "name": "stderr",
     "output_type": "stream",
     "text": [
      "C:\\Users\\Admin\\AppData\\Local\\Temp\\ipykernel_24096\\3703040605.py:4: RuntimeWarning: invalid value encountered in arccosh\n",
      "  nparr_arccosh = np.arccosh(nparr)\n",
      "C:\\Users\\Admin\\AppData\\Local\\Temp\\ipykernel_24096\\3703040605.py:6: RuntimeWarning: divide by zero encountered in arctanh\n",
      "  nparr_arctanh = np.arctanh(nparr)\n",
      "C:\\Users\\Admin\\AppData\\Local\\Temp\\ipykernel_24096\\3703040605.py:6: RuntimeWarning: invalid value encountered in arctanh\n",
      "  nparr_arctanh = np.arctanh(nparr)\n"
     ]
    }
   ],
   "source": [
    "# INVERSE HYPERBOLIC\n",
    "nparr_arcsinh = np.arcsinh(nparr)\n",
    "print(nparr_arcsinh)\n",
    "nparr_arccosh = np.arccosh(nparr)\n",
    "print(nparr_arccosh)\n",
    "nparr_arctanh = np.arctanh(nparr)\n",
    "print(nparr_arctanh)"
   ]
  },
  {
   "cell_type": "code",
   "execution_count": 25,
   "id": "6b9a623a-b89d-4b36-813e-a8bd1c02cf79",
   "metadata": {},
   "outputs": [
    {
     "name": "stdout",
     "output_type": "stream",
     "text": [
      "5.0\n",
      "5.0\n",
      "3.1622776601683795\n",
      "10.0\n"
     ]
    }
   ],
   "source": [
    "# STATISTICAL\n",
    "nparr_mean = np.mean(nparr)\n",
    "print(nparr_mean)\n",
    "nparr_median = np.median(nparr)\n",
    "print(nparr_median)\n",
    "nparr_std = np.std(nparr)\n",
    "print(nparr_std)\n",
    "nparr_var = np.var(nparr)\n",
    "print(nparr_var)"
   ]
  },
  {
   "cell_type": "code",
   "execution_count": 27,
   "id": "6d29e9e2-0196-4d10-a641-2dd2c4ecd20e",
   "metadata": {},
   "outputs": [
    {
     "name": "stdout",
     "output_type": "stream",
     "text": [
      "[0.98832222 0.92401287 0.48715564 0.73804241 0.80750485 0.31910702\n",
      " 0.16203072 0.91365402 0.58905883 0.86395622]\n",
      "[-2.65218626  0.42419643 -0.61817287 -0.48897277  0.12755362 -0.58104188\n",
      " -0.54746594  1.14305102 -0.01089206  0.97231948]\n",
      "[0 3 6 3 2 9 0 0 4 7]\n"
     ]
    }
   ],
   "source": [
    "# RANDOM NUMBER GENERATION\n",
    "nparr_rand = np.random.rand(10)\n",
    "print(nparr_rand)\n",
    "nparr_randn = np.random.randn(10)\n",
    "print(nparr_randn)\n",
    "nparr_randint = np.random.randint(0, 10, 10)\n",
    "print(nparr_randint)"
   ]
  },
  {
   "cell_type": "code",
   "execution_count": 18,
   "id": "1e4af15c-45f0-4adc-8373-4faebb514885",
   "metadata": {},
   "outputs": [
    {
     "name": "stdout",
     "output_type": "stream",
     "text": [
      "[[ 1  2  0 -1]\n",
      " [ 2  4  0 -2]\n",
      " [ 0  0  0  0]\n",
      " [-1 -2  0  1]]\n",
      "0.0\n"
     ]
    }
   ],
   "source": [
    "import numpy as np\n",
    "\n",
    "# Assuming nparr is defined as:\n",
    "nparr = np.array([1, 2, 0, -1])\n",
    "\n",
    "# LINEAR ALGEBRA\n",
    "nparr_matmul = np.matmul(nparr[:, None], nparr[None, :])\n",
    "print(nparr_matmul)\n",
    "\n",
    "nparr_det = np.linalg.det(nparr_matmul)\n",
    "print(nparr_det)\n"
   ]
  },
  {
   "cell_type": "markdown",
   "id": "972a1821-d893-483d-91e0-8cfb7315a695",
   "metadata": {},
   "source": [
    "This notebook covers the following topics:\n",
    "\n",
    "1. Basic operations (multiplication, division, exponentiation)\n",
    "2. Trigonometric functions (sine, cosine, tangent)\n",
    "3. Inverse trigonometric functions (arcsine, arccosine, arctangent)\n",
    "4. Hyperbolic functions (hyperbolic sine, hyperbolic cosine, hyperbolic tangent)\n",
    "5. Inverse hyperbolic functions (inverse hyperbolic sine, inverse hyperbolic cosine, inverse hyperbolic tangent)\n",
    "6. Statistical functions (mean, median, standard deviation, variance)\n",
    "7. Random number generation (uniform, normal, integer)\n",
    "8. Linear algebra (matrix multiplication, determinant)"
   ]
  },
  {
   "cell_type": "code",
   "execution_count": 34,
   "id": "10da46be-adf1-437d-8594-4b4aee56848b",
   "metadata": {},
   "outputs": [
    {
     "name": "stdout",
     "output_type": "stream",
     "text": [
      "Angles: [0 1 2]\n",
      "Sine values: [0.         0.84147098 0.90929743]\n",
      "Inverse Sine values: [0.         1.57079633        nan]\n",
      "Using the add() function: [ 3  7 11 15]\n",
      "Array after round(): [1.23 2.35 3.46 4.57]\n",
      "Median is: 3.0\n",
      "Largest element is 5\n"
     ]
    },
    {
     "name": "stderr",
     "output_type": "stream",
     "text": [
      "C:\\Users\\Admin\\AppData\\Local\\Temp\\ipykernel_24096\\576588560.py:13: RuntimeWarning: invalid value encountered in arcsin\n",
      "  inverse_sine = np.arcsin(angles)\n"
     ]
    }
   ],
   "source": [
    "# Trigonometric Functions\n",
    "import numpy as np\n",
    "\n",
    "# array of angles in radians\n",
    "angles = np.array([0, 1, 2])\n",
    "print(\"Angles:\", angles)\n",
    "\n",
    "# compute the sine of the angles\n",
    "sine_values = np.sin(angles)\n",
    "print(\"Sine values:\", sine_values)\n",
    "\n",
    "# compute the inverse sine of the angles\n",
    "inverse_sine = np.arcsin(angles)\n",
    "print(\"Inverse Sine values:\", inverse_sine)\n",
    "\n",
    "# Arithmetic Functions\n",
    "first_array = np.array([1, 3, 5, 7])\n",
    "second_array = np.array([2, 4, 6, 8])\n",
    "\n",
    "# using the add() function\n",
    "result2 = np.add(first_array, second_array)\n",
    "print(\"Using the add() function:\", result2)\n",
    "\n",
    "# Rounding Functions\n",
    "numbers = np.array([1.23456, 2.34567, 3.45678, 4.56789])\n",
    "\n",
    "# round the array to two decimal places\n",
    "rounded_array = np.round(numbers, 2)\n",
    "\n",
    "print(\"Array after round():\", rounded_array)\n",
    "\n",
    "# Statistical Functions\n",
    "array1 = np.array([1, 2, 3, 4, 5])\n",
    "\n",
    "# calculate the median\n",
    "median = np.median(array1)\n",
    "print(\"Median is:\", median)\n",
    "\n",
    "# find the largest element\n",
    "max = np.max(array1)\n",
    "print(\"Largest element is\", max)"
   ]
  },
  {
   "cell_type": "markdown",
   "id": "4de2c244-c3e0-469e-a955-149b3cc62ef9",
   "metadata": {},
   "source": [
    "This above code covers the following topics:\n",
    "\n",
    "1. Trigonometric functions (sin, arcsin)\n",
    "2. Arithmetic functions (add)\n",
    "3. Rounding functions (round)\n",
    "4. Statistical functions (median, max)"
   ]
  },
  {
   "cell_type": "raw",
   "id": "d9878200-e943-4111-b0fa-14e4bd0d2b1b",
   "metadata": {},
   "source": [
    "Loops are Slow\n",
    "\n",
    "Imagine you have a big box of toys, and you want to count how many toys are in the box. A loop is like asking a friend to count the toys one by one. Your friend has to pick up each toy, count it, and then put it back in the box. This takes time and effort.\n",
    "In Python, when you use a loop, the computer has to do something similar. It has to execute each step of the loop, one by one, which can be slow.\n",
    "\n",
    "UFuncs are Fast\n",
    "\n",
    "Now, imagine you have a special machine that can count all the toys in the box at once, without having to pick them up one by one. This machine is like a super-fast counter that can do the job much quicker.\n",
    "In Python, UFuncs (like np.square) are like this special machine. They can perform operations on entire arrays of data at once, without having to loop through each element one by one. This makes them much faster and more efficient.\n",
    "So, when you can use UFuncs, it's like using a super-fast machine to get the job done quickly, instead of asking your friend to count the toys one by one!"
   ]
  },
  {
   "cell_type": "code",
   "execution_count": null,
   "id": "e3270b1e-8a82-488a-b6f2-249f16901c1a",
   "metadata": {},
   "outputs": [],
   "source": []
  }
 ],
 "metadata": {
  "kernelspec": {
   "display_name": "Python 3 (ipykernel)",
   "language": "python",
   "name": "python3"
  },
  "language_info": {
   "codemirror_mode": {
    "name": "ipython",
    "version": 3
   },
   "file_extension": ".py",
   "mimetype": "text/x-python",
   "name": "python",
   "nbconvert_exporter": "python",
   "pygments_lexer": "ipython3",
   "version": "3.12.4"
  }
 },
 "nbformat": 4,
 "nbformat_minor": 5
}
