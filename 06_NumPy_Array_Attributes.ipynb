{
 "cells": [
  {
   "cell_type": "markdown",
   "id": "af65ece2-8c00-4977-854c-ec83b8b62345",
   "metadata": {},
   "source": [
    "# NumPy Array Attributes\n",
    "In NumPy, attributes are properties of NumPy arrays that provide information about the array's shape, size, data type, dimension, and so on."
   ]
  },
  {
   "cell_type": "markdown",
   "id": "a84c8b00-7cac-4694-a17d-aa2538fbc673",
   "metadata": {},
   "source": [
    "## Common NumPy Attributes\n",
    "\n",
    "| Attribute | Description |\n",
    "|-----------|-------------|\n",
    "| `ndim` | Returns number of dimensions of the array |\n",
    "| `size` | Returns number of elements in the array |\n",
    "| `dtype` | Returns data type of elements in the array |\n",
    "| `shape` | Returns the size of the array in each dimension |\n",
    "| `itemsize` | Returns the size (in bytes) of each element in the array |\n",
    "| `data` | Returns the buffer containing actual elements of the array in memory |\n"
   ]
  },
  {
   "cell_type": "markdown",
   "id": "c50ee816-4223-4f6b-9aa1-6a2b27fb4840",
   "metadata": {},
   "source": [
    "## Accessing NumPy Attributes\n",
    "To access the Numpy attributes, we use the **. notation**"
   ]
  },
  {
   "cell_type": "raw",
   "id": "1f9198c2-6fb9-4329-a4d9-edfed061c9e0",
   "metadata": {},
   "source": [
    "array1.ndim #This returns the number of dimensions in array1"
   ]
  },
  {
   "cell_type": "markdown",
   "id": "40bccb76-4e88-4021-a764-868acb1d1af6",
   "metadata": {},
   "source": [
    "## Numpy Array ndim Attribute\n",
    "The **ndim attribute** returns the number of dimensions in the numpy array."
   ]
  },
  {
   "cell_type": "code",
   "execution_count": 8,
   "id": "c19a6ce7-321a-4342-ab08-08599a4d36c4",
   "metadata": {},
   "outputs": [
    {
     "name": "stdout",
     "output_type": "stream",
     "text": [
      "2\n"
     ]
    }
   ],
   "source": [
    "import numpy as np\n",
    "\n",
    "# create a 2-D array \n",
    "array1 = np.array([[2, 4, 6],\n",
    "                  [1, 3, 5]])\n",
    "\n",
    "# check the dimension of array1\n",
    "print(array1.ndim) "
   ]
  },
  {
   "cell_type": "markdown",
   "id": "08ac9e98-2aeb-4506-a182-8ab1c96acb33",
   "metadata": {},
   "source": [
    "## NumPy Array size Attribute\n",
    "The **size attribute** returns the total number of elements in the given array."
   ]
  },
  {
   "cell_type": "code",
   "execution_count": 11,
   "id": "b24bcc34-21e0-48f9-a3ea-df26798a2142",
   "metadata": {},
   "outputs": [
    {
     "name": "stdout",
     "output_type": "stream",
     "text": [
      "6\n"
     ]
    }
   ],
   "source": [
    "import numpy as np\n",
    "\n",
    "array1 = np.array([[1, 2, 3],\n",
    "                 [6, 7, 8]])\n",
    "\n",
    "# return total number of elements in array1\n",
    "print(array1.size)"
   ]
  },
  {
   "cell_type": "markdown",
   "id": "03286e72-18da-4449-9f9a-77a357391971",
   "metadata": {},
   "source": [
    "## NumPy Array shape Attribute\n",
    "In NumPy, the **shape attribute** returns a tuple of integers that gives the size of the array in each dimension."
   ]
  },
  {
   "cell_type": "code",
   "execution_count": 14,
   "id": "945ad441-7a96-48ea-98c4-369dd6303ce0",
   "metadata": {},
   "outputs": [
    {
     "name": "stdout",
     "output_type": "stream",
     "text": [
      "(2, 3)\n"
     ]
    }
   ],
   "source": [
    "import numpy as np\n",
    "\n",
    "array1 = np.array([[1, 2, 3],\n",
    "                [6, 7, 8]])\n",
    "\n",
    "# return a tuple that gives size of array in each dimension\n",
    "print(array1.shape)"
   ]
  },
  {
   "cell_type": "markdown",
   "id": "719e2642-bc78-4619-9832-43b245d81ea9",
   "metadata": {},
   "source": [
    "## NumPy Array dtype Attribute\n",
    "We can use the **dtype attribute** to check the datatype of a NumPy array."
   ]
  },
  {
   "cell_type": "code",
   "execution_count": 19,
   "id": "57e06b8f-a169-458d-ad03-ba67996ea7a4",
   "metadata": {},
   "outputs": [
    {
     "name": "stdout",
     "output_type": "stream",
     "text": [
      "int32\n"
     ]
    }
   ],
   "source": [
    "import numpy as np\n",
    "\n",
    "# create an array of integers \n",
    "array1 = np.array([6, 7, 8])\n",
    "\n",
    "# check the data type of array1\n",
    "print(array1.dtype) "
   ]
  },
  {
   "cell_type": "markdown",
   "id": "c01f4a31-2dda-4c98-916b-f172097e7d66",
   "metadata": {},
   "source": [
    "## NumPy Array itemsize Attribute\n",
    "In NumPy, the **itemsize attribute** determines size (in bytes) of each element in the array."
   ]
  },
  {
   "cell_type": "code",
   "execution_count": 22,
   "id": "a3d87c6b-4a38-4233-a718-37c7d837d107",
   "metadata": {},
   "outputs": [
    {
     "name": "stdout",
     "output_type": "stream",
     "text": [
      "4\n",
      "4\n"
     ]
    }
   ],
   "source": [
    "import numpy as np\n",
    "\n",
    "# create a default 1-D array of integers\n",
    "array1 = np.array([6, 7, 8, 10, 13])\n",
    "\n",
    "# create a 1-D array of 32-bit integers \n",
    "array2 = np.array([6, 7, 8, 10, 13], dtype=np.int32)\n",
    "\n",
    "# use of itemsize to determine size of each array element of array1 and array2\n",
    "print(array1.itemsize)  \n",
    "print(array2.itemsize)  "
   ]
  },
  {
   "cell_type": "markdown",
   "id": "3c634107-d7a4-497f-9ee9-313339d47578",
   "metadata": {},
   "source": [
    "## NumPy Array data Attribute\n",
    "In NumPy, we can get a buffer containing actual elements of the array in memory using the **data attribute**"
   ]
  },
  {
   "cell_type": "code",
   "execution_count": 25,
   "id": "cd6ad502-fd7c-4424-b61b-fc34f405a9b9",
   "metadata": {},
   "outputs": [
    {
     "name": "stdout",
     "output_type": "stream",
     "text": [
      "\n",
      "Data of array1 is:  <memory at 0x000001D8016099C0>\n",
      "Data of array2 is:  <memory at 0x000001D804416A80>\n"
     ]
    }
   ],
   "source": [
    "import numpy as np\n",
    "\n",
    "array1 = np.array([6, 7, 8])\n",
    "array2 = np.array([[1, 2, 3],\n",
    "                    [6, 7, 8]])\n",
    "\n",
    "# print memory address of array1's and array2's data\n",
    "print(\"\\nData of array1 is: \",array1.data)\n",
    "print(\"Data of array2 is: \",array2.data)"
   ]
  },
  {
   "cell_type": "code",
   "execution_count": null,
   "id": "cfe05ba7-2929-4a36-9d8c-63b6a73dea69",
   "metadata": {},
   "outputs": [],
   "source": []
  }
 ],
 "metadata": {
  "kernelspec": {
   "display_name": "Python 3 (ipykernel)",
   "language": "python",
   "name": "python3"
  },
  "language_info": {
   "codemirror_mode": {
    "name": "ipython",
    "version": 3
   },
   "file_extension": ".py",
   "mimetype": "text/x-python",
   "name": "python",
   "nbconvert_exporter": "python",
   "pygments_lexer": "ipython3",
   "version": "3.12.4"
  }
 },
 "nbformat": 4,
 "nbformat_minor": 5
}
