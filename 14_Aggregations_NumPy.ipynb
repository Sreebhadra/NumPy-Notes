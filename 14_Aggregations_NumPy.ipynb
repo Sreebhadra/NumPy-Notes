{
 "cells": [
  {
   "cell_type": "markdown",
   "id": "01f6e5d9-2aa1-4b6a-9821-eb01ace7f6ad",
   "metadata": {},
   "source": [
    "# **Aggregate Functions**\n",
    "Aggregate functions are a set of functions in NumPy that perform operations on entire arrays or axes of arrays.\n",
    "\n",
    "### Examples of Aggregate Functions\n",
    "\n",
    "Some examples of aggregate functions include:\n",
    "\n",
    "* `np.sum`: calculates the sum of an array or axis\n",
    "* `np.mean`: calculates the mean of an array or axis\n",
    "* `np.median`: calculates the median of an array or axis\n",
    "* `np.std`: calculates the standard deviation of an array or axis\n",
    "* `np.max`: calculates the maximum value of an array or axis\n",
    "* `np.min`: calculates the minimum value of an array or axis"
   ]
  },
  {
   "cell_type": "code",
   "execution_count": 2,
   "id": "5efa9486-3e60-4b48-89f0-898bc23216e1",
   "metadata": {},
   "outputs": [
    {
     "name": "stdout",
     "output_type": "stream",
     "text": [
      "15\n",
      "3.0\n",
      "3.0\n",
      "1.4142135623730951\n",
      "5\n",
      "1\n"
     ]
    }
   ],
   "source": [
    "import numpy as np\n",
    "\n",
    "# create an array\n",
    "array = np.array([1, 2, 3, 4, 5])\n",
    "\n",
    "# calculate the sum of the array\n",
    "print(np.sum(array))  \n",
    "\n",
    "# calculate the mean of the array\n",
    "print(np.mean(array))  \n",
    "\n",
    "# calculate the median of the array\n",
    "print(np.median(array))  \n",
    "\n",
    "# calculate the standard deviation of the array\n",
    "print(np.std(array))  \n",
    "\n",
    "# calculate the maximum value of the array\n",
    "print(np.max(array)) \n",
    "\n",
    "# calculate the minimum value of the array\n",
    "print(np.min(array))  "
   ]
  },
  {
   "cell_type": "code",
   "execution_count": 6,
   "id": "88091eb9-7cd4-42ac-afda-d50467b62070",
   "metadata": {},
   "outputs": [
    {
     "name": "stdout",
     "output_type": "stream",
     "text": [
      "Max: 10\n",
      "Min: 1\n",
      "Sum: 55\n",
      "Mean: 5.5\n",
      "Median: 5.5\n",
      "Standard Deviation: 2.8722813232690143\n",
      "Variance: 8.25\n",
      "25th Percentile: 3.25\n",
      "50th Percentile (Median): 5.5\n",
      "75th Percentile: 7.75\n",
      "Index of Max: 9\n",
      "Index of Min: 0\n",
      "Cumulative Sum: [ 1  3  6 10 15 21 28 36 45 55]\n",
      "Cumulative Product: [      1       2       6      24     120     720    5040   40320  362880\n",
      " 3628800]\n",
      "Dot Product: 3850\n",
      "Outer Product:\n",
      " [[  10   20   30   40   50   60   70   80   90  100]\n",
      " [  20   40   60   80  100  120  140  160  180  200]\n",
      " [  30   60   90  120  150  180  210  240  270  300]\n",
      " [  40   80  120  160  200  240  280  320  360  400]\n",
      " [  50  100  150  200  250  300  350  400  450  500]\n",
      " [  60  120  180  240  300  360  420  480  540  600]\n",
      " [  70  140  210  280  350  420  490  560  630  700]\n",
      " [  80  160  240  320  400  480  560  640  720  800]\n",
      " [  90  180  270  360  450  540  630  720  810  900]\n",
      " [ 100  200  300  400  500  600  700  800  900 1000]]\n"
     ]
    }
   ],
   "source": [
    "# Import NumPy\n",
    "import numpy as np\n",
    "\n",
    "# Create a sample array\n",
    "arr = np.array([1, 2, 3, 4, 5, 6, 7, 8, 9, 10])\n",
    "\n",
    "# Max and Min\n",
    "print(\"Max:\", np.max(arr))\n",
    "print(\"Min:\", np.min(arr))\n",
    "\n",
    "# Sum\n",
    "print(\"Sum:\", np.sum(arr))\n",
    "\n",
    "# Mean\n",
    "print(\"Mean:\", np.mean(arr))\n",
    "\n",
    "# Median\n",
    "print(\"Median:\", np.median(arr))\n",
    "\n",
    "# Standard Deviation\n",
    "print(\"Standard Deviation:\", np.std(arr))\n",
    "\n",
    "# Variance\n",
    "print(\"Variance:\", np.var(arr))\n",
    "\n",
    "# Percentiles\n",
    "print(\"25th Percentile:\", np.percentile(arr, 25))\n",
    "print(\"50th Percentile (Median):\", np.percentile(arr, 50))\n",
    "print(\"75th Percentile:\", np.percentile(arr, 75))\n",
    "\n",
    "# Argmax and Argmin\n",
    "print(\"Index of Max:\", np.argmax(arr))\n",
    "print(\"Index of Min:\", np.argmin(arr))\n",
    "\n",
    "# Cumulative Sum\n",
    "print(\"Cumulative Sum:\", np.cumsum(arr))\n",
    "\n",
    "# Cumulative Product\n",
    "print(\"Cumulative Product:\", np.cumprod(arr))\n",
    "\n",
    "# Dot Product\n",
    "arr2 = np.array([10, 20, 30, 40, 50, 60, 70, 80, 90, 100])\n",
    "print(\"Dot Product:\", np.dot(arr, arr2))\n",
    "\n",
    "# Outer Product\n",
    "print(\"Outer Product:\\n\", np.outer(arr, arr2))"
   ]
  },
  {
   "cell_type": "markdown",
   "id": "82e4d9c3-835a-4547-ac79-89f317650aaa",
   "metadata": {},
   "source": [
    "This notebook covers the following NumPy aggregations:\n",
    "\n",
    "1. `np.max` and `np.min`: find the maximum and minimum values in an array\n",
    "2. `np.sum`: calculate the sum of all elements in an array\n",
    "3. `np.mean`: calculate the mean (average) of all elements in an array\n",
    "4. `np.median`: calculate the median of all elements in an array\n",
    "5. `np.std` and `np.var`: calculate the standard deviation and variance of all elements in an array\n",
    "6. `np.percentile`: calculate the nth percentile of all elements in an array\n",
    "7. `np.argmax` and `np.argmin`: find the indices of the maximum and minimum values in an array\n",
    "8. `np.cumsum` and `np.cumprod`: calculate the cumulative sum and product of all elements in an array\n",
    "9. `np.dot`: calculate the dot product of two arrays\n",
    "10. `np.outer`: calculate the outer product of two arrays"
   ]
  },
  {
   "cell_type": "code",
   "execution_count": null,
   "id": "86def7e5-1bb0-4791-9886-86a561e34e93",
   "metadata": {},
   "outputs": [],
   "source": []
  }
 ],
 "metadata": {
  "kernelspec": {
   "display_name": "Python 3 (ipykernel)",
   "language": "python",
   "name": "python3"
  },
  "language_info": {
   "codemirror_mode": {
    "name": "ipython",
    "version": 3
   },
   "file_extension": ".py",
   "mimetype": "text/x-python",
   "name": "python",
   "nbconvert_exporter": "python",
   "pygments_lexer": "ipython3",
   "version": "3.12.4"
  }
 },
 "nbformat": 4,
 "nbformat_minor": 5
}
