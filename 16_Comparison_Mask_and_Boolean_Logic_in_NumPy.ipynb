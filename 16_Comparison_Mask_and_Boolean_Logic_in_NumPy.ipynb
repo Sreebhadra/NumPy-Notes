{
 "cells": [
  {
   "cell_type": "markdown",
   "id": "dbbfab24-b03c-4751-ba81-0700198c72e8",
   "metadata": {},
   "source": [
    "# **Comparison, Mask, and Boolean Logic in NumPy**"
   ]
  },
  {
   "cell_type": "markdown",
   "id": "8a637d95-b18f-409a-b2e7-8ce3d2d3283e",
   "metadata": {},
   "source": [
    "NumPy provides various ways to perform comparison, masking, and boolean logic operations on arrays. <br> These operations are essential in data analysis and scientific computing."
   ]
  },
  {
   "cell_type": "markdown",
   "id": "9c615513-732f-42d5-91ca-8602c2befea0",
   "metadata": {},
   "source": [
    "### Comparison Operations\n",
    "\n",
    "NumPy provides various comparison operations that can be used to compare arrays element-wise.\n",
    "\n",
    "#### Equal (==)"
   ]
  },
  {
   "cell_type": "code",
   "execution_count": 7,
   "id": "1427260e-825f-407f-be35-be2bcc324862",
   "metadata": {},
   "outputs": [
    {
     "name": "stdout",
     "output_type": "stream",
     "text": [
      "[ True  True  True  True  True]\n"
     ]
    }
   ],
   "source": [
    "import numpy as np\n",
    "\n",
    "arr1 = np.array([1, 2, 3, 4, 5])\n",
    "arr2 = np.array([1, 2, 3, 4, 5])\n",
    "\n",
    "print(arr1 == arr2)"
   ]
  },
  {
   "cell_type": "markdown",
   "id": "7659e153-ea4a-4dfc-8d27-23fbdd82ba7c",
   "metadata": {},
   "source": [
    "#### Not Equal (!=)"
   ]
  },
  {
   "cell_type": "code",
   "execution_count": 10,
   "id": "45c3f24b-5085-4695-9357-e1fcb966bdf7",
   "metadata": {},
   "outputs": [
    {
     "name": "stdout",
     "output_type": "stream",
     "text": [
      "[False False  True False False]\n"
     ]
    }
   ],
   "source": [
    "arr1 = np.array([1, 2, 3, 4, 5])\n",
    "arr2 = np.array([1, 2, 4, 4, 5])\n",
    "\n",
    "print(arr1 != arr2)"
   ]
  },
  {
   "cell_type": "markdown",
   "id": "a50f0c3d-80ca-4e25-afda-96e6e67741f5",
   "metadata": {},
   "source": [
    "#### Greater Than (>) and Less Than (<)"
   ]
  },
  {
   "cell_type": "code",
   "execution_count": 20,
   "id": "0153b7bf-a17a-4191-83f7-2408b0a971a1",
   "metadata": {},
   "outputs": [
    {
     "name": "stdout",
     "output_type": "stream",
     "text": [
      "[False False False False False]\n",
      "[False False  True False False]\n"
     ]
    }
   ],
   "source": [
    "arr1 = np.array([1, 2, 3, 4, 5])\n",
    "arr2 = np.array([1, 2, 4, 4, 5])\n",
    "\n",
    "print(arr1 > arr2)  \n",
    "print(arr1 < arr2)  "
   ]
  },
  {
   "cell_type": "markdown",
   "id": "62e973b0-5ddd-49f0-b9e0-32216840be32",
   "metadata": {},
   "source": [
    "## Masking\n",
    "Masking is a way to select specific elements from an array based on a condition.\n",
    "\n",
    "### Creating a Mask"
   ]
  },
  {
   "cell_type": "code",
   "execution_count": 23,
   "id": "ea4fc188-89a5-403f-8615-4a449a8d0c61",
   "metadata": {},
   "outputs": [
    {
     "name": "stdout",
     "output_type": "stream",
     "text": [
      "[False False False  True  True]\n"
     ]
    }
   ],
   "source": [
    "arr = np.array([1, 2, 3, 4, 5])\n",
    "mask = arr > 3\n",
    "\n",
    "print(mask)  # prints [False False False  True  True]"
   ]
  },
  {
   "cell_type": "markdown",
   "id": "21f81f5a-65a7-4df9-9fa8-efb21fe1957e",
   "metadata": {},
   "source": [
    "### Using a Mask to Select Elements"
   ]
  },
  {
   "cell_type": "code",
   "execution_count": 26,
   "id": "84a3f607-7079-47a7-b443-3df9c72520b0",
   "metadata": {},
   "outputs": [
    {
     "name": "stdout",
     "output_type": "stream",
     "text": [
      "[4 5]\n"
     ]
    }
   ],
   "source": [
    "arr = np.array([1, 2, 3, 4, 5])\n",
    "mask = arr > 3\n",
    "\n",
    "print(arr[mask])  # prints [4 5]"
   ]
  },
  {
   "cell_type": "markdown",
   "id": "68cc5e5e-f86a-47e7-9873-e5caaaa00707",
   "metadata": {},
   "source": [
    "## Boolean Logic\n",
    "NumPy provides various boolean logic operations that can be used to combine multiple conditions."
   ]
  },
  {
   "cell_type": "markdown",
   "id": "12c2d778-6336-46d9-81d9-9a39fbfa4448",
   "metadata": {},
   "source": [
    "### AND (&)"
   ]
  },
  {
   "cell_type": "code",
   "execution_count": 30,
   "id": "a05fbce0-ddb7-4067-8a20-f984463590a9",
   "metadata": {},
   "outputs": [
    {
     "name": "stdout",
     "output_type": "stream",
     "text": [
      "[False False  True  True False]\n"
     ]
    }
   ],
   "source": [
    "arr = np.array([1, 2, 3, 4, 5])\n",
    "mask1 = arr > 2\n",
    "mask2 = arr < 5\n",
    "\n",
    "print(mask1 & mask2)  # prints [False False  True  True False]"
   ]
  },
  {
   "cell_type": "markdown",
   "id": "f48f1832-cbb2-4ac9-a470-d5e262f1ba3f",
   "metadata": {},
   "source": [
    "### OR (|)"
   ]
  },
  {
   "cell_type": "code",
   "execution_count": 36,
   "id": "ad8bab8c-ffa3-4edc-bd7d-a60b79a616fb",
   "metadata": {},
   "outputs": [
    {
     "name": "stdout",
     "output_type": "stream",
     "text": [
      "[ True  True  True  True  True]\n"
     ]
    }
   ],
   "source": [
    "arr = np.array([1, 2, 3, 4, 5])\n",
    "mask1 = arr > 2\n",
    "mask2 = arr < 5\n",
    "\n",
    "print(mask1 | mask2)  # prints [False  True  True  True  True]"
   ]
  },
  {
   "cell_type": "markdown",
   "id": "6de47c3b-6915-4bc6-884e-4264cdc3df35",
   "metadata": {},
   "source": [
    "### NOT (~)"
   ]
  },
  {
   "cell_type": "code",
   "execution_count": 39,
   "id": "7c9f85e5-221d-4f77-aa62-e8d246714354",
   "metadata": {},
   "outputs": [
    {
     "name": "stdout",
     "output_type": "stream",
     "text": [
      "[ True  True  True False False]\n"
     ]
    }
   ],
   "source": [
    "arr = np.array([1, 2, 3, 4, 5])\n",
    "mask = arr > 3\n",
    "\n",
    "print(~mask)  # prints [ True  True  True False False]"
   ]
  },
  {
   "cell_type": "code",
   "execution_count": null,
   "id": "e758be9b-0125-4036-97c7-5c05bc8d7269",
   "metadata": {},
   "outputs": [],
   "source": []
  }
 ],
 "metadata": {
  "kernelspec": {
   "display_name": "Python 3 (ipykernel)",
   "language": "python",
   "name": "python3"
  },
  "language_info": {
   "codemirror_mode": {
    "name": "ipython",
    "version": 3
   },
   "file_extension": ".py",
   "mimetype": "text/x-python",
   "name": "python",
   "nbconvert_exporter": "python",
   "pygments_lexer": "ipython3",
   "version": "3.12.4"
  }
 },
 "nbformat": 4,
 "nbformat_minor": 5
}
