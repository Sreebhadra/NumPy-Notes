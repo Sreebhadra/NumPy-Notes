{
 "cells": [
  {
   "cell_type": "markdown",
   "id": "629367f0-77b9-40f8-be1b-db1f077cd8c1",
   "metadata": {},
   "source": [
    "# NumPy Input Output\n",
    "NumPy offers input/output (I/O) functions for loading and saving data to and from"
   ]
  },
  {
   "cell_type": "markdown",
   "id": "5f52db2d-2df9-4a93-94ed-5bb6e0c37298",
   "metadata": {},
   "source": [
    "## Most Commonly Used I/O Functions\n",
    "\n",
    "| Function | Description |\n",
    "|----------|-------------|\n",
    "| `save()` | Saves an array to a binary file in the NumPy .npy format |\n",
    "| `load()` | Loads data from a binary file in the NumPy .npy format |\n",
    "| `savetxt()` | Saves an array to a text file in a specific format |\n",
    "| `loadtxt()` | Loads data from a text file |"
   ]
  },
  {
   "cell_type": "markdown",
   "id": "f993f565-bdd1-4cf8-ac7c-503aea3629aa",
   "metadata": {},
   "source": [
    "## NumPy save() Function\n",
    "In NumPy, the **save() function** is used to save an array to a binary file in the NumPy .npy format."
   ]
  },
  {
   "cell_type": "code",
   "execution_count": 8,
   "id": "9b468347-d707-4ffa-91b1-4674b23e0170",
   "metadata": {},
   "outputs": [],
   "source": [
    "import numpy as np\n",
    "\n",
    "# create a NumPy array\n",
    "array1 = np.array([[1, 3, 5], \n",
    "                   [7, 9, 11]])\n",
    "\n",
    "# save the array to a file\n",
    "np.save('file1.npy', array1)"
   ]
  },
  {
   "cell_type": "markdown",
   "id": "91c75fa0-8fb7-45b1-8c9e-4b213fb05dc1",
   "metadata": {},
   "source": [
    "## NumPy load() Function\n"
   ]
  },
  {
   "cell_type": "code",
   "execution_count": 11,
   "id": "4e9089b7-06fa-4c7d-af4b-8324b6eef9c8",
   "metadata": {},
   "outputs": [
    {
     "name": "stdout",
     "output_type": "stream",
     "text": [
      "[[ 1  3  5]\n",
      " [ 7  9 11]]\n"
     ]
    }
   ],
   "source": [
    "import numpy as np\n",
    "\n",
    "# load the saved NumPy array\n",
    "loaded_array = np.load('file1.npy')\n",
    "\n",
    "# display the loaded array\n",
    "print(loaded_array)"
   ]
  },
  {
   "cell_type": "markdown",
   "id": "83c2603b-3369-4869-889f-cded07d29f8f",
   "metadata": {},
   "source": [
    "## NumPy savetxt() Function\n",
    "In NumPy, we use the **savetxt() function** to save an array to a text file."
   ]
  },
  {
   "cell_type": "code",
   "execution_count": 14,
   "id": "419fd6e0-445f-47d8-b40d-8bbffec21305",
   "metadata": {},
   "outputs": [],
   "source": [
    "import numpy as np\n",
    "\n",
    "# create a NumPy array\n",
    "array2 = np.array([[1, 3, 5], \n",
    "                   [7, 9, 11]])\n",
    "\n",
    "# save the array to a file\n",
    "np.savetxt('file2.txt', array2)"
   ]
  },
  {
   "cell_type": "markdown",
   "id": "2392f52f-b6c1-4dbf-8cd9-8e3c7ba585b8",
   "metadata": {},
   "source": [
    "## NumPy loadtxt() Function"
   ]
  },
  {
   "cell_type": "code",
   "execution_count": 17,
   "id": "7f2fe461-0e44-45ca-baf9-5e6a87958e52",
   "metadata": {},
   "outputs": [
    {
     "name": "stdout",
     "output_type": "stream",
     "text": [
      "[[ 1.  3.  5.]\n",
      " [ 7.  9. 11.]]\n"
     ]
    }
   ],
   "source": [
    "import numpy as np\n",
    "\n",
    "# load the saved NumPy array\n",
    "loaded_array = np.loadtxt('file2.txt')\n",
    "\n",
    "# display the loaded array\n",
    "print(loaded_array)"
   ]
  },
  {
   "cell_type": "code",
   "execution_count": null,
   "id": "f542af01-0e71-4029-bcf0-cb78c4d2a641",
   "metadata": {},
   "outputs": [],
   "source": []
  }
 ],
 "metadata": {
  "kernelspec": {
   "display_name": "Python 3 (ipykernel)",
   "language": "python",
   "name": "python3"
  },
  "language_info": {
   "codemirror_mode": {
    "name": "ipython",
    "version": 3
   },
   "file_extension": ".py",
   "mimetype": "text/x-python",
   "name": "python",
   "nbconvert_exporter": "python",
   "pygments_lexer": "ipython3",
   "version": "3.12.4"
  }
 },
 "nbformat": 4,
 "nbformat_minor": 5
}
