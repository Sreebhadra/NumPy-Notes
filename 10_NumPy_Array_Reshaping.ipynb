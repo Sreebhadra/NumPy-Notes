{
 "cells": [
  {
   "cell_type": "markdown",
   "id": "2544ccb4-b4bc-4180-84fa-3658bb5483a2",
   "metadata": {},
   "source": [
    "# **NumPy Array Reshaping**"
   ]
  },
  {
   "cell_type": "markdown",
   "id": "852552b9-ead6-4968-9658-3551bb8cf675",
   "metadata": {},
   "source": [
    "# Introduction to NumPy Array Reshaping\n",
    "\n",
    "NumPy array reshaping is the process of changing the shape of an array without modifying its data. In this, we will explore:\n",
    "\n",
    "- The basics of NumPy array reshaping\n",
    "- Syntax for reshaping arrays\n",
    "- Examples of reshaping operations\n",
    "- Common use cases for array reshaping"
   ]
  },
  {
   "cell_type": "markdown",
   "id": "417a0fcf-9ed3-4492-bb59-4a00dc283a79",
   "metadata": {},
   "source": [
    "## Syntax\n",
    "\n",
    "The syntax for NumPy array reshaping is as follows:\n",
    "\n",
    "```python\n",
    "np.reshape(array, newshape, order='C')"
   ]
  },
  {
   "cell_type": "raw",
   "id": "39b056fa-6e7c-4409-8f7c-afbe06cd25a0",
   "metadata": {},
   "source": [
    "Where:\n",
    "\n",
    "array is the input array to be reshaped.\n",
    "newshape is the desired new shape of the array.\n",
    "order (optional) specifies the order in which the elements of the array should be arranged. By default, it is set to 'C'."
   ]
  },
  {
   "cell_type": "markdown",
   "id": "116e1d93-c12c-412e-afe9-bdaaae19afd7",
   "metadata": {},
   "source": [
    "## Reshape 1D Array to 2D Array"
   ]
  },
  {
   "cell_type": "code",
   "execution_count": 16,
   "id": "2e304599-c08f-45c1-bce1-23e8b23ac0f4",
   "metadata": {},
   "outputs": [
    {
     "name": "stdout",
     "output_type": "stream",
     "text": [
      "[[1 3 5 7]\n",
      " [2 4 6 8]]\n"
     ]
    }
   ],
   "source": [
    "import numpy as np\n",
    "\n",
    "array1 = np.array([1, 3, 5, 7, 2, 4, 6, 8])\n",
    "result = np.reshape(array1, (2, 4))\n",
    "print(result)\n",
    "\n",
    "#We can reshape this 1D array into a 2D array with 2 rows and 4 columns using the reshape() function"
   ]
  },
  {
   "cell_type": "markdown",
   "id": "02b696d2-0908-4d08-b3fc-a04de454ea64",
   "metadata": {},
   "source": [
    "## Reshape 1D Array to 3D Array"
   ]
  },
  {
   "cell_type": "code",
   "execution_count": 19,
   "id": "f176c51b-6583-42d3-a05b-7c5c83bed116",
   "metadata": {},
   "outputs": [
    {
     "name": "stdout",
     "output_type": "stream",
     "text": [
      "[[[1 3]\n",
      "  [5 7]]\n",
      "\n",
      " [[2 4]\n",
      "  [6 8]]]\n"
     ]
    }
   ],
   "source": [
    "array1 = np.array([1, 3, 5, 7, 2, 4, 6, 8])\n",
    "result = np.reshape(array1, (2, 2, 2))\n",
    "print(result)\n",
    "\n"
   ]
  },
  {
   "cell_type": "markdown",
   "id": "a94c2e31-b854-4518-84ef-bf1363a89cea",
   "metadata": {},
   "source": [
    "## Flatten N-d Array to 1-D Array\n",
    "Flattening an array means converting a multidimensional array into a 1D array. <br> We can use the reshape() function with -1 as an argument to flatten an array."
   ]
  },
  {
   "cell_type": "code",
   "execution_count": 23,
   "id": "244505cd-b4c7-45b0-9bc3-c2d7f8f21217",
   "metadata": {},
   "outputs": [
    {
     "name": "stdout",
     "output_type": "stream",
     "text": [
      "[ 1  3  5  7  9 11]\n",
      "[1 3 5 7 2 4 6 8]\n"
     ]
    }
   ],
   "source": [
    "array1 = np.array([[1, 3], [5, 7], [9, 11]])\n",
    "result1 = np.reshape(array1, -1)\n",
    "print(result1)\n",
    "\n",
    "array2 = np.array([[[1, 3], [5, 7]], [[2, 4], [6, 8]]])\n",
    "result2 = np.reshape(array2, -1)\n",
    "print(result2)"
   ]
  },
  {
   "cell_type": "markdown",
   "id": "c8270aa1-944c-4af8-8794-217744c5b969",
   "metadata": {},
   "source": [
    "## Example Use Cases\n",
    "Here are some example use cases for NumPy array reshaping:\n",
    "- Image processing: Reshaping an image array from 3D (height, width, channels) to 2D (height, width) for processing.\n",
    "- Data analysis: Reshaping a dataset from 2D (rows, columns) to 1D (rows) for analysis.\n",
    "- Machine learning: Reshaping input data from 1D to 2D or 3D for model training."
   ]
  },
  {
   "cell_type": "code",
   "execution_count": null,
   "id": "69048f41-019f-42c2-8347-b6827cb91565",
   "metadata": {},
   "outputs": [],
   "source": []
  }
 ],
 "metadata": {
  "kernelspec": {
   "display_name": "Python 3 (ipykernel)",
   "language": "python",
   "name": "python3"
  },
  "language_info": {
   "codemirror_mode": {
    "name": "ipython",
    "version": 3
   },
   "file_extension": ".py",
   "mimetype": "text/x-python",
   "name": "python",
   "nbconvert_exporter": "python",
   "pygments_lexer": "ipython3",
   "version": "3.12.4"
  }
 },
 "nbformat": 4,
 "nbformat_minor": 5
}
