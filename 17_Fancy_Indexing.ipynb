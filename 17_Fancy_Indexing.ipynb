{
 "cells": [
  {
   "cell_type": "markdown",
   "id": "aa2a66af-c4ff-4909-994a-958fb425499d",
   "metadata": {},
   "source": [
    "# **Fancy Indexing in NumPy**=\r\n",
    "\r\n",
    "Fancy indexing is a powerful feature in NumPy that allows you to access and manipulate arrays using integer arrays as indices.\r\n",
    "\r\n",
    "### What is Fancy Indexing?\r\n",
    "\r\n",
    "Fancy indexing is a way to access specific elements of an array using an integer array as an index. This allows you to select specific rows and columns of an array, or even specific elements of an array.\r\n",
    "\r\n",
    "### Basic Fancy Indexing\r\n",
    "\r\n",
    "Let's create a 2D array and use fancy indexing to access specific elements.\n"
   ]
  },
  {
   "cell_type": "code",
   "execution_count": 8,
   "id": "cb7964fb-fc1c-45f3-977b-f5c22e21d2aa",
   "metadata": {},
   "outputs": [
    {
     "name": "stdout",
     "output_type": "stream",
     "text": [
      "2\n",
      "6\n"
     ]
    }
   ],
   "source": [
    "import numpy as np\n",
    "\n",
    "arr = np.array([[1, 2, 3], [4, 5, 6], [7, 8, 9]])\n",
    "\n",
    "print(arr[0, 1])  \n",
    "print(arr[1, 2])"
   ]
  },
  {
   "cell_type": "markdown",
   "id": "18fb27ec-90ac-4ecd-b9ad-e2945e9b3e27",
   "metadata": {},
   "source": [
    "### Fancy Indexing with Integer Arrays\n",
    "Let's create an integer array and use it to index our original array."
   ]
  },
  {
   "cell_type": "code",
   "execution_count": 11,
   "id": "ae429adc-d4b0-4bae-8bba-ec3698ff1ef6",
   "metadata": {},
   "outputs": [
    {
     "name": "stdout",
     "output_type": "stream",
     "text": [
      "[2 5 8]\n"
     ]
    }
   ],
   "source": [
    "arr = np.array([[1, 2, 3], [4, 5, 6], [7, 8, 9]])\n",
    "\n",
    "index = np.array([0, 1, 2])\n",
    "\n",
    "print(arr[index, 1])  "
   ]
  },
  {
   "cell_type": "markdown",
   "id": "01e0c67b-c71b-4765-932f-ce3a73707551",
   "metadata": {},
   "source": [
    "### Fancy Indexing with Multiple Integer Arrays\n",
    "Let's create two integer arrays and use them to index our original array."
   ]
  },
  {
   "cell_type": "code",
   "execution_count": 14,
   "id": "1ef9db2d-514d-427a-a4cc-7ac706f6792c",
   "metadata": {},
   "outputs": [
    {
     "name": "stdout",
     "output_type": "stream",
     "text": [
      "[1 5 7]\n"
     ]
    }
   ],
   "source": [
    "arr = np.array([[1, 2, 3], [4, 5, 6], [7, 8, 9]])\n",
    "\n",
    "rows = np.array([0, 1, 2])\n",
    "cols = np.array([0, 1, 0])\n",
    "\n",
    "print(arr[rows, cols]) "
   ]
  },
  {
   "cell_type": "markdown",
   "id": "48acd946-e5b5-45da-948e-159a8b1d1c94",
   "metadata": {},
   "source": [
    "### Combined Fancy Indexing\n",
    "Combined fancy indexing allows you to access specific elements of an array using multiple integer arrays as indices."
   ]
  },
  {
   "cell_type": "code",
   "execution_count": 23,
   "id": "8e0f87a3-4100-4c64-a2c8-0d419c90ef58",
   "metadata": {},
   "outputs": [
    {
     "name": "stdout",
     "output_type": "stream",
     "text": [
      "[1 5 7]\n"
     ]
    }
   ],
   "source": [
    "arr = np.array([[1, 2, 3], [4, 5, 6], [7, 8, 9]])\n",
    "\n",
    "rows = np.array([0, 1, 2])\n",
    "cols = np.array([0, 1, 0])\n",
    "\n",
    "print(arr[rows, cols])  "
   ]
  },
  {
   "cell_type": "markdown",
   "id": "5ce17c6f-c859-48c7-bb12-15b8cffb3200",
   "metadata": {},
   "source": [
    "### Modify Fancy Indexing\n",
    "Let's use fancy indexing to modify specific elements of our original array."
   ]
  },
  {
   "cell_type": "code",
   "execution_count": 17,
   "id": "6b487c7b-a4e9-4204-9402-f734b7b33764",
   "metadata": {},
   "outputs": [
    {
     "name": "stdout",
     "output_type": "stream",
     "text": [
      "[[10  2  3]\n",
      " [ 4 10  6]\n",
      " [10  8  9]]\n"
     ]
    }
   ],
   "source": [
    "arr = np.array([[1, 2, 3], [4, 5, 6], [7, 8, 9]])\n",
    "\n",
    "rows = np.array([0, 1, 2])\n",
    "cols = np.array([0, 1, 0])\n",
    "\n",
    "arr[rows, cols] = 10\n",
    "\n",
    "print(arr)  "
   ]
  },
  {
   "cell_type": "markdown",
   "id": "69b3b5bc-ff82-4e70-9cf7-ea03dca6a8b2",
   "metadata": {},
   "source": [
    "### Boolean Fancy Indexing\n",
    "Let's use a boolean array to index our original array."
   ]
  },
  {
   "cell_type": "code",
   "execution_count": 20,
   "id": "c12ccf60-d9bb-48f2-b77c-d57705ddcc5a",
   "metadata": {},
   "outputs": [
    {
     "name": "stdout",
     "output_type": "stream",
     "text": [
      "[1 3 5 7 9]\n"
     ]
    }
   ],
   "source": [
    "arr = np.array([[1, 2, 3], [4, 5, 6], [7, 8, 9]])\n",
    "\n",
    "mask = np.array([[True, False, True], [False, True, False], [True, False, True]])\n",
    "\n",
    "print(arr[mask])  "
   ]
  },
  {
   "cell_type": "markdown",
   "id": "d455dc6e-e961-4063-b821-682b7b52dcb3",
   "metadata": {},
   "source": [
    "## **Conclusion**\n",
    "**Fancy indexing is a powerful feature in NumPy that allows you to access and manipulate arrays using integer arrays as indices. \n",
    "<br>It is a key concept in NumPy and is used extensively in scientific computing and data analysis.**"
   ]
  },
  {
   "cell_type": "code",
   "execution_count": null,
   "id": "92abdbb5-3487-4e54-95ac-06b11d241fdb",
   "metadata": {},
   "outputs": [],
   "source": []
  }
 ],
 "metadata": {
  "kernelspec": {
   "display_name": "Python 3 (ipykernel)",
   "language": "python",
   "name": "python3"
  },
  "language_info": {
   "codemirror_mode": {
    "name": "ipython",
    "version": 3
   },
   "file_extension": ".py",
   "mimetype": "text/x-python",
   "name": "python",
   "nbconvert_exporter": "python",
   "pygments_lexer": "ipython3",
   "version": "3.12.4"
  }
 },
 "nbformat": 4,
 "nbformat_minor": 5
}
