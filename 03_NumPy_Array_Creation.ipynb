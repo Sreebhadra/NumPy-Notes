{
 "cells": [
  {
   "cell_type": "markdown",
   "id": "8ebef6fe-717b-4c47-8f4c-cb1222377055",
   "metadata": {},
   "source": [
    "## Create Array Using Python List"
   ]
  },
  {
   "cell_type": "code",
   "execution_count": 8,
   "id": "161d4974-b03d-43fc-98d3-58abed4f4a5f",
   "metadata": {},
   "outputs": [
    {
     "name": "stdout",
     "output_type": "stream",
     "text": [
      "[2 4 6 8]\n"
     ]
    }
   ],
   "source": [
    "import numpy as np\n",
    "\n",
    "# create a list named list1\n",
    "list1 = [2, 4, 6, 8]\n",
    "\n",
    "# create numpy array using list1\n",
    "array1 = np.array(list1)\n",
    "\n",
    "print(array1)"
   ]
  },
  {
   "cell_type": "code",
   "execution_count": 6,
   "id": "744ad56b-0e01-4581-8272-6f226b11cc5a",
   "metadata": {},
   "outputs": [
    {
     "name": "stdout",
     "output_type": "stream",
     "text": [
      "[2 4 6 8]\n"
     ]
    }
   ],
   "source": [
    "import numpy as np\n",
    "\n",
    "# create numpy array using a list\n",
    "array1 = np.array([2, 4, 6, 8])\n",
    "print(array1)"
   ]
  },
  {
   "cell_type": "markdown",
   "id": "234e4d97-d10c-4217-8288-54d69cbd90e0",
   "metadata": {},
   "source": [
    "## Create an Array Using np.zeros()"
   ]
  },
  {
   "cell_type": "code",
   "execution_count": 11,
   "id": "dc809684-63af-48c2-8b5d-49faf8c9a9af",
   "metadata": {},
   "outputs": [
    {
     "name": "stdout",
     "output_type": "stream",
     "text": [
      "[0. 0. 0. 0.]\n"
     ]
    }
   ],
   "source": [
    "import numpy as np\n",
    "\n",
    "# create an array with 4 elements filled with zeros\n",
    "array1 = np.zeros(4)\n",
    "\n",
    "print(array1)"
   ]
  },
  {
   "cell_type": "markdown",
   "id": "bacf6009-2c34-4025-91db-25e7f18bf66d",
   "metadata": {},
   "source": [
    "## Create an Array Using np.ones"
   ]
  },
  {
   "cell_type": "code",
   "execution_count": 32,
   "id": "bd6623a1-0ed2-4a43-b03b-df6643268677",
   "metadata": {},
   "outputs": [
    {
     "name": "stdout",
     "output_type": "stream",
     "text": [
      "[[1. 1. 1.]\n",
      " [1. 1. 1.]\n",
      " [1. 1. 1.]]\n"
     ]
    }
   ],
   "source": [
    "arr_ones = np.ones((3, 3))\n",
    "print(arr_ones)"
   ]
  },
  {
   "cell_type": "markdown",
   "id": "b6a0770c-af7a-4939-81b8-e5ba66f760d2",
   "metadata": {},
   "source": [
    "## Create N-D Array with a Specified Value"
   ]
  },
  {
   "cell_type": "code",
   "execution_count": 41,
   "id": "fcf12a6e-73d0-427e-a543-1d5c5693aeca",
   "metadata": {},
   "outputs": [
    {
     "name": "stdout",
     "output_type": "stream",
     "text": [
      "Array: [[5 5]\n",
      " [5 5]]\n"
     ]
    }
   ],
   "source": [
    "import numpy as np\n",
    "\n",
    "# Create a 2-D array with elements initialized to 5 \n",
    "numpy_array = np.full((2, 2), 5)\n",
    "\n",
    "print(\"Array:\", numpy_array)"
   ]
  },
  {
   "cell_type": "markdown",
   "id": "a75e57c0-0516-4c54-a00f-d4aa9fdda232",
   "metadata": {},
   "source": [
    "## Create an Array With np.arange()\n",
    "The np.arange() function returns an array with values within a specified interval."
   ]
  },
  {
   "cell_type": "code",
   "execution_count": 14,
   "id": "3ab45f48-794b-4124-aae4-a0278502c837",
   "metadata": {},
   "outputs": [
    {
     "name": "stdout",
     "output_type": "stream",
     "text": [
      "Using np.arange(5): [0 1 2 3 4]\n",
      "Using np.arange(1, 9, 2): [1 3 5 7]\n"
     ]
    }
   ],
   "source": [
    "import numpy as np\n",
    "\n",
    "# create an array with values from 0 to 4\n",
    "array1 = np.arange(5)\n",
    "\n",
    "print(\"Using np.arange(5):\", array1)\n",
    "\n",
    "# create an array with values from 1 to 8 with a step of 2\n",
    "array2 = np.arange(1, 9, 2)\n",
    "\n",
    "print(\"Using np.arange(1, 9, 2):\",array2)"
   ]
  },
  {
   "cell_type": "raw",
   "id": "e40f23ea-3e71-4d00-abf8-30f65257b964",
   "metadata": {},
   "source": [
    "np.arange(5) - create an array with 5 elements, where the values range from 0 to 4\n",
    "np.arange(1, 9, 2) - create an array with 5 elements, where the values range from 1 to 8 with a step of 2.\n"
   ]
  },
  {
   "cell_type": "markdown",
   "id": "c1c81868-ffff-4334-9e10-1f3f7ec9125d",
   "metadata": {},
   "source": [
    "## Create an Array With np.random.rand()\n",
    "The np.random.rand() function is used to create an array of random numbers."
   ]
  },
  {
   "cell_type": "code",
   "execution_count": 19,
   "id": "200a93dd-7686-41c8-8a75-bc11732d02fc",
   "metadata": {},
   "outputs": [
    {
     "name": "stdout",
     "output_type": "stream",
     "text": [
      "[0.44958741 0.10792567 0.46073483 0.54398614 0.10470133]\n"
     ]
    }
   ],
   "source": [
    "import numpy as np\n",
    "\n",
    "# generate an array of 5 random numbers\n",
    "array1 = np.random.rand(5)\n",
    "\n",
    "print(array1)"
   ]
  },
  {
   "cell_type": "markdown",
   "id": "7ec65aa0-07ac-40f5-b6dd-ebf6bcbe30c3",
   "metadata": {},
   "source": [
    "## Create an Array With np.random.randint"
   ]
  },
  {
   "cell_type": "code",
   "execution_count": 35,
   "id": "13336792-6106-4539-898f-943ebdc78785",
   "metadata": {},
   "outputs": [
    {
     "name": "stdout",
     "output_type": "stream",
     "text": [
      "[[9 5 5]\n",
      " [0 1 2]\n",
      " [2 9 5]]\n"
     ]
    }
   ],
   "source": [
    "arr_randint = np.random.randint(0, 10, size=(3, 3))\n",
    "print(arr_randint)"
   ]
  },
  {
   "cell_type": "markdown",
   "id": "496cd871-0345-4d06-877d-167df757b2f3",
   "metadata": {},
   "source": [
    "## Create an Empty NumPy Array\n",
    "To create an empty NumPy array, we use the np.empty() function"
   ]
  },
  {
   "cell_type": "code",
   "execution_count": 22,
   "id": "1ed8e521-c493-4e65-b2b6-aa4358924f7f",
   "metadata": {},
   "outputs": [
    {
     "name": "stdout",
     "output_type": "stream",
     "text": [
      "[0. 0. 0. 0.]\n"
     ]
    }
   ],
   "source": [
    "import numpy as np\n",
    "\n",
    "# create an empty array of length 4\n",
    "array1 = np.empty(4)\n",
    "\n",
    "print(array1)"
   ]
  },
  {
   "cell_type": "markdown",
   "id": "9db943b7-bef4-4a97-a517-31a47fb42b55",
   "metadata": {},
   "source": [
    "## Create arrays with a specific data type"
   ]
  },
  {
   "cell_type": "code",
   "execution_count": 26,
   "id": "604076d7-f049-4a3b-9bc7-e05e0d7470a3",
   "metadata": {},
   "outputs": [
    {
     "name": "stdout",
     "output_type": "stream",
     "text": [
      "[1.5 2.4 3.3 4.2 5.1]\n"
     ]
    }
   ],
   "source": [
    "arr_float = np.array([1.5, 2.4, 3.3, 4.2, 5.1], dtype=float)\n",
    "print(arr_float)"
   ]
  },
  {
   "cell_type": "markdown",
   "id": "e067b386-e6db-4e10-9725-acf30fd5ea5f",
   "metadata": {},
   "source": [
    "## Array Functions"
   ]
  },
  {
   "cell_type": "markdown",
   "id": "af6537df-c055-4e37-afcb-a8b12e1c3490",
   "metadata": {},
   "source": [
    "**NumPy provides many useful functions for working with arrays.** <br> For example, you can use the sum function to calculate the sum of all elements in an array:"
   ]
  },
  {
   "cell_type": "code",
   "execution_count": 30,
   "id": "d7b64236-4ff9-432f-a847-739707326391",
   "metadata": {},
   "outputs": [
    {
     "name": "stdout",
     "output_type": "stream",
     "text": [
      "15\n"
     ]
    }
   ],
   "source": [
    "arr = np.array([1, 2, 3, 4, 5])\n",
    "print(np.sum(arr))"
   ]
  },
  {
   "cell_type": "code",
   "execution_count": null,
   "id": "c9b6ed7a-6399-4916-a9a0-872a8418dda0",
   "metadata": {},
   "outputs": [],
   "source": []
  }
 ],
 "metadata": {
  "kernelspec": {
   "display_name": "Python 3 (ipykernel)",
   "language": "python",
   "name": "python3"
  },
  "language_info": {
   "codemirror_mode": {
    "name": "ipython",
    "version": 3
   },
   "file_extension": ".py",
   "mimetype": "text/x-python",
   "name": "python",
   "nbconvert_exporter": "python",
   "pygments_lexer": "ipython3",
   "version": "3.12.4"
  }
 },
 "nbformat": 4,
 "nbformat_minor": 5
}
