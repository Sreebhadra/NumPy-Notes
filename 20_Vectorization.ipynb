{
 "cells": [
  {
   "cell_type": "markdown",
   "id": "62d4b47c-2c44-4676-950a-7dcb1cf41690",
   "metadata": {},
   "source": [
    "# **Vectorization in NumPy**\n",
    "\n",
    "Vectorization is a powerful feature in NumPy that allows you to perform operations on entire arrays at once, without the need for loops. This can lead to significant performance improvements and make your code more concise and readable.\n",
    "\n",
    "### Basic Vectorization\n",
    "\n",
    "Let's start with a simple example. Suppose we want to add 2 to each element of an array.\n",
    "\n"
   ]
  },
  {
   "cell_type": "code",
   "execution_count": 4,
   "id": "7d7d4867-d81f-4e79-a3bc-958b82671380",
   "metadata": {},
   "outputs": [
    {
     "name": "stdout",
     "output_type": "stream",
     "text": [
      "[3, 4, 5, 6, 7]\n",
      "[3 4 5 6 7]\n"
     ]
    }
   ],
   "source": [
    "import numpy as np\n",
    "\n",
    "# Create an array\n",
    "arr = np.array([1, 2, 3, 4, 5])\n",
    "\n",
    "# Add 2 to each element using a loop\n",
    "result_loop = []\n",
    "for elem in arr:\n",
    "    result_loop.append(elem + 2)\n",
    "\n",
    "print(result_loop)  \n",
    "\n",
    "# Add 2 to each element using vectorization\n",
    "result_vectorized = arr + 2\n",
    "\n",
    "print(result_vectorized)  "
   ]
  },
  {
   "cell_type": "markdown",
   "id": "183453ba-8a01-4839-900c-04bf40ec555a",
   "metadata": {},
   "source": [
    "# Element-wise Operations in NumPy\n",
    "\n",
    "NumPy supports a wide range of element-wise operations, including:\n",
    "\n",
    "* **Arithmetic operations**: \n",
    "  - Addition (`+`)\n",
    "  - Subtraction (`-`)\n",
    "  - Multiplication (`*`)\n",
    "  - Division (`/`)\n",
    "  - Exponentiation (`**`)\n",
    "  - And more...\n",
    "\n",
    "* **Comparison operations**: \n",
    "  - Equal to (`==`)\n",
    "  - Not equal to (`!=`)\n",
    "  - Less than (`<`)\n",
    "  - Greater than (`>`)\n",
    "  - Less than or equal to (`<=`)\n",
    "  - Greater than or equal to (`>=`)\n",
    "\n",
    "* **Logical operations**: \n",
    "  - Logical AND (`&`)\n",
    "  - Logical OR (`|`)\n",
    "  - Logical NOT (`~`)\n",
    "\n",
    "Let's try some examples:m"
   ]
  },
  {
   "cell_type": "code",
   "execution_count": 9,
   "id": "f341aafe-4382-4473-a8bf-25db25afd8c5",
   "metadata": {},
   "outputs": [
    {
     "name": "stdout",
     "output_type": "stream",
     "text": [
      "[5 8 9 8 5]\n",
      "[False False False  True  True]\n",
      "[False False  True  True  True]\n"
     ]
    }
   ],
   "source": [
    "arr1 = np.array([1, 2, 3, 4, 5])\n",
    "arr2 = np.array([5, 4, 3, 2, 1])\n",
    "\n",
    "# Element-wise multiplication\n",
    "result_mul = arr1 * arr2\n",
    "print(result_mul)  \n",
    "\n",
    "# Element-wise comparison\n",
    "result_cmp = arr1 > arr2\n",
    "print(result_cmp)  \n",
    "\n",
    "# Element-wise logical operation\n",
    "result_log = (arr1 > 2) & (arr2 < 4)\n",
    "print(result_log)  "
   ]
  },
  {
   "cell_type": "code",
   "execution_count": null,
   "id": "ba1a23da-3cbb-4eec-8a95-183c1944e07e",
   "metadata": {},
   "outputs": [],
   "source": []
  }
 ],
 "metadata": {
  "kernelspec": {
   "display_name": "Python 3 (ipykernel)",
   "language": "python",
   "name": "python3"
  },
  "language_info": {
   "codemirror_mode": {
    "name": "ipython",
    "version": 3
   },
   "file_extension": ".py",
   "mimetype": "text/x-python",
   "name": "python",
   "nbconvert_exporter": "python",
   "pygments_lexer": "ipython3",
   "version": "3.12.4"
  }
 },
 "nbformat": 4,
 "nbformat_minor": 5
}
