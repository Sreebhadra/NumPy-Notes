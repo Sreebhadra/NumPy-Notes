{
 "cells": [
  {
   "cell_type": "markdown",
   "id": "a65328c3-cc2a-4e54-9ca3-516b46d65072",
   "metadata": {},
   "source": [
    "# NumPy Array Slicing\n",
    "Array Slicing is the process of extracting a portion of an array. <br> With slicing, we can easily access elements in the array. It can be done on one or more dimensions of a NumPy array."
   ]
  },
  {
   "cell_type": "markdown",
   "id": "c62f5641-50bf-476b-8a8b-f6fce1ec49b0",
   "metadata": {},
   "source": [
    "## Syntax of NumPy Array Slicing"
   ]
  },
  {
   "cell_type": "raw",
   "id": "37cdb69c-278b-415f-b3a8-81650b7ee0b7",
   "metadata": {},
   "source": [
    "array[start:stop:step]\n",
    "\n",
    "Here,\n",
    "\n",
    "start - index of the first element to be included in the slice\n",
    "stop - index of the last element (exclusive)\n",
    "step - step size between each element in the slice\n",
    "Note: When we slice arrays, the start index is inclusive but the stop index is exclusive.\n",
    "\n",
    "If we omit start, slicing starts from the first element\n",
    "If we omit stop, slicing continues up to the last element\n",
    "If we omit step, default step size is 1"
   ]
  },
  {
   "cell_type": "markdown",
   "id": "a06f40e8-ee22-4bf5-ae96-1e91ba6eff14",
   "metadata": {},
   "source": [
    "## 1D NumPy Array Slicing\n",
    "In NumPy, it's possible to access the portion of an array using the **slicing operator :**"
   ]
  },
  {
   "cell_type": "code",
   "execution_count": 54,
   "id": "ddcdaf65-ee30-43d5-8b15-2b9595fcd979",
   "metadata": {},
   "outputs": [
    {
     "name": "stdout",
     "output_type": "stream",
     "text": [
      "[5 7 8 9]\n",
      "[1 5 8 2]\n",
      "[7 8 9 2 4 6]\n",
      "[1 3 5 7 8 9 2 4 6]\n"
     ]
    }
   ],
   "source": [
    "import numpy as np\n",
    "\n",
    "# create a 1D array \n",
    "array1 = np.array([1, 3, 5, 7, 8, 9, 2, 4, 6])\n",
    "\n",
    "# slice array1 from index 2 to index 6 (exclusive)\n",
    "print(array1[2:6])  \n",
    "\n",
    "# slice array1 from index 0 to index 8 (exclusive) with a step size of 2\n",
    "print(array1[0:8:2])  \n",
    "\n",
    "# slice array1 from index 3 up to the last element\n",
    "print(array1[3:])  \n",
    "\n",
    "# items from start to end\n",
    "print(array1[:])   "
   ]
  },
  {
   "cell_type": "markdown",
   "id": "74b604d9-ce6c-4d8f-acb1-de286beca898",
   "metadata": {},
   "source": [
    "## Modify Array Elements Using Slicing\n",
    "With slicing, we can also modify array elements using:"
   ]
  },
  {
   "cell_type": "markdown",
   "id": "4e0d9dc7-e612-4e7f-aa19-2196e6002589",
   "metadata": {},
   "source": [
    "1. start parameter\n",
    "2. stop parameter\n",
    "3. start and stop parameter\n",
    "4. start, stop, and step parameter"
   ]
  },
  {
   "cell_type": "markdown",
   "id": "9131cf23-4260-4166-99d3-3c71425bacf0",
   "metadata": {},
   "source": [
    "### 1. Using start Parameter"
   ]
  },
  {
   "cell_type": "code",
   "execution_count": 57,
   "id": "182a8f6b-7610-436e-841d-07e8c4e7bd58",
   "metadata": {},
   "outputs": [
    {
     "name": "stdout",
     "output_type": "stream",
     "text": [
      "[ 2  4  6 20 20 20]\n"
     ]
    }
   ],
   "source": [
    "import numpy as np\n",
    "\n",
    "# create a numpy array\n",
    "numbers = np.array([2, 4, 6, 8, 10, 12])\n",
    "\n",
    "# modify elements from index 3 onwards\n",
    "numbers[3:] = 20\n",
    "print(numbers)"
   ]
  },
  {
   "cell_type": "markdown",
   "id": "a80b082c-349c-4ccc-8af9-ae01662da420",
   "metadata": {},
   "source": [
    "### 2. Using stop Parameter"
   ]
  },
  {
   "cell_type": "code",
   "execution_count": 59,
   "id": "1575ec49-bc54-46da-9332-ea2219cdbf09",
   "metadata": {},
   "outputs": [
    {
     "name": "stdout",
     "output_type": "stream",
     "text": [
      "[40 40 40  8 10 12]\n"
     ]
    }
   ],
   "source": [
    "import numpy as np\n",
    "\n",
    "# create a numpy array\n",
    "numbers = np.array([2, 4, 6, 8, 10, 12])\n",
    "\n",
    "# modify the first 3 elements\n",
    "numbers[:3] = 40\n",
    "print(numbers)\n"
   ]
  },
  {
   "cell_type": "markdown",
   "id": "1df76df1-6787-4f04-981a-f7558b5261e9",
   "metadata": {},
   "source": [
    "### 3. Using start and stop parameter"
   ]
  },
  {
   "cell_type": "code",
   "execution_count": 61,
   "id": "19ccb2b9-5565-4272-a9a0-4ec544b68d0b",
   "metadata": {},
   "outputs": [
    {
     "name": "stdout",
     "output_type": "stream",
     "text": [
      "[ 2  4 22 22 22 12]\n"
     ]
    }
   ],
   "source": [
    "import numpy as np\n",
    "\n",
    "# create a numpy array\n",
    "numbers = np.array([2, 4, 6, 8, 10, 12])\n",
    "\n",
    "# modify elements from indices 2 to 5\n",
    "numbers[2:5] = 22\n",
    "print(numbers)"
   ]
  },
  {
   "cell_type": "markdown",
   "id": "9e450605-5065-45d1-b406-f71dd72c0d29",
   "metadata": {},
   "source": [
    "### 4. Using start, stop, and step parameter"
   ]
  },
  {
   "cell_type": "code",
   "execution_count": 63,
   "id": "aad7d073-6c8d-4988-abce-05084ebd8f22",
   "metadata": {},
   "outputs": [
    {
     "name": "stdout",
     "output_type": "stream",
     "text": [
      "[ 2 16  6 16 10 12]\n"
     ]
    }
   ],
   "source": [
    "import numpy as np\n",
    "\n",
    "# create a numpy array\n",
    "numbers = np.array([2, 4, 6, 8, 10, 12])\n",
    "\n",
    "# modify every second element from indices 1 to 5\n",
    "numbers[1:5:2] = 16\n",
    "print(numbers)"
   ]
  },
  {
   "cell_type": "markdown",
   "id": "3c374acc-8ec5-4544-8c3e-2c10255cbc95",
   "metadata": {},
   "source": [
    "## NumPy Array Negative Slicing\n",
    "We can also use negative indices to perform negative slicing in NumPy arrays. <br> During negative slicing, elements are accessed from the end of the array."
   ]
  },
  {
   "cell_type": "code",
   "execution_count": 65,
   "id": "719b724b-45ef-40b1-9729-672a4c839d16",
   "metadata": {},
   "outputs": [
    {
     "name": "stdout",
     "output_type": "stream",
     "text": [
      "[ 8 10 12]\n",
      "[4 6 8]\n",
      "[12  8  4]\n"
     ]
    }
   ],
   "source": [
    "import numpy as np\n",
    "\n",
    "# create a numpy array\n",
    "numbers = np.array([2, 4, 6, 8, 10, 12])\n",
    "\n",
    "# slice the last 3 elements of the array\n",
    "# using the start parameter\n",
    "print(numbers[-3:])    \n",
    "\n",
    "# slice elements from 2nd-to-last to 4th-to-last element\n",
    "# using the start and stop parameters\n",
    "print(numbers[-5:-2])    \n",
    "\n",
    "# slice every other element of the array from the end\n",
    "# using the start, stop, and step parameters\n",
    "print(numbers[-1::-2])  "
   ]
  },
  {
   "cell_type": "markdown",
   "id": "d2a08ae2-50cd-4a00-8705-c1f335dac6e1",
   "metadata": {},
   "source": [
    "## Reverse NumPy Array Using Negative Slicing\n",
    "In NumPy, we can also reverse array elements using the negative slicing. For example,"
   ]
  },
  {
   "cell_type": "code",
   "execution_count": 30,
   "id": "b90be80e-1d7d-403a-b6ae-b07513325e03",
   "metadata": {},
   "outputs": [
    {
     "name": "stdout",
     "output_type": "stream",
     "text": [
      "[12 10  8  6  4  2]\n"
     ]
    }
   ],
   "source": [
    "import numpy as np\n",
    "\n",
    "# create a numpy array\n",
    "numbers = np.array([2, 4, 6, 8, 10, 12])\n",
    "\n",
    "# generate reversed array\n",
    "reversed_numbers = numbers[::-1]\n",
    "print(reversed_numbers)\n",
    "\n",
    "# Here, the slice numbers[::-1] selects all the elements of the array with a step size of -1, which reverses the order of the elements."
   ]
  },
  {
   "cell_type": "markdown",
   "id": "410ca754-9fe1-4bee-b170-2314b10a5fc8",
   "metadata": {},
   "source": [
    "# 2D NumPy Array Slicing\n",
    "A 2D NumPy array can be thought of as a matrix, where each element has two indices, row index and column index.\n",
    "<br>\n",
    "To slice a 2D NumPy array, we can use the same syntax as for slicing a 1D NumPy array. \n",
    "<br>\n",
    "The only difference is that we need to specify a slice for each dimension of the array."
   ]
  },
  {
   "cell_type": "markdown",
   "id": "7d6e3199-b77e-41f6-abf6-dbb788a61a1f",
   "metadata": {},
   "source": [
    "## Syntax of 2D NumPy Array Slicing"
   ]
  },
  {
   "cell_type": "raw",
   "id": "853f2766-c710-4ee4-b363-7d9344596bd1",
   "metadata": {},
   "source": [
    "array[row_start:row_stop:row_step, col_start:col_stop:col_step]\n",
    "\n",
    "Here,\n",
    "row_start, row_stop, row_step - specifies starting index, stopping index, and step size for the rows respectively\n",
    "col_start, col_stop, col_step - specifies starting index, stopping index, and step size for the columns respectively"
   ]
  },
  {
   "cell_type": "code",
   "execution_count": 40,
   "id": "d78cba5b-e5db-485c-835b-040d0a5ffa9b",
   "metadata": {},
   "outputs": [
    {
     "name": "stdout",
     "output_type": "stream",
     "text": [
      "[[ 1  3]\n",
      " [ 9 11]]\n"
     ]
    }
   ],
   "source": [
    "# create a 2D array\n",
    "array1 = np.array([[1, 3, 5, 7], \n",
    "                   [9, 11, 13, 15]])\n",
    "\n",
    "print(array1[:2, :2])\n",
    "\n",
    "#Here, the , in [:2, :2] separates the rows of the array.\n",
    "#The first :2 returns first 2 rows i.e., entire array1 i.e [1,3]\n",
    "#The second :2 returns first 2 columns from the 2 rows. i.e. [9, 11]"
   ]
  },
  {
   "cell_type": "markdown",
   "id": "5d18211d-ef52-4afb-b24c-78ba7ef2c5fd",
   "metadata": {},
   "source": [
    "## Example: 2D NumPy Array Slicing"
   ]
  },
  {
   "cell_type": "code",
   "execution_count": 43,
   "id": "1ef223d5-b079-420a-a2ac-d987cbdaed98",
   "metadata": {},
   "outputs": [
    {
     "name": "stdout",
     "output_type": "stream",
     "text": [
      "First Two Rows and Columns: \n",
      " [[ 1  3]\n",
      " [ 9 11]]\n",
      "Last two Rows and Columns: \n",
      " [[13 15]\n",
      " [ 6  8]]\n"
     ]
    }
   ],
   "source": [
    "import numpy as np\n",
    "\n",
    "# create a 2D array \n",
    "array1 = np.array([[1, 3, 5, 7], \n",
    "                      [9, 11, 13, 15],\n",
    "                      [2, 4, 6, 8]])\n",
    "\n",
    "\n",
    "# slice the array to get the first two rows and columns\n",
    "subarray1 = array1[:2, :2]\n",
    "\n",
    "# slice the array to get the last two rows and columns\n",
    "subarray2 = array1[1:3, 2:4]\n",
    "\n",
    "# print the subarrays\n",
    "print(\"First Two Rows and Columns: \\n\",subarray1)\n",
    "print(\"Last two Rows and Columns: \\n\",subarray2)"
   ]
  },
  {
   "cell_type": "raw",
   "id": "1de007b9-1ac3-49c9-b474-f2cf81d2f43b",
   "metadata": {},
   "source": [
    "Here,\n",
    "\n",
    "array1[:2, :2] - slices array1 that starts at the first row and first column (default values), and ends at the second row and second column (exclusive)\n",
    "array1[1:3, 2:4] - slices array1 that starts at the second row and third column (index 1 and 2), and ends at the third row and fourth column (index 2 and 3)"
   ]
  },
  {
   "cell_type": "markdown",
   "id": "40ce8fca-21dd-4b87-970a-c0a38f6fe461",
   "metadata": {},
   "source": [
    "# 3D NumPy Array Slicing"
   ]
  },
  {
   "cell_type": "raw",
   "id": "4659c6a7-6bb1-479b-bd4f-065e8909233c",
   "metadata": {},
   "source": [
    "A 3D NumPy array can be thought of as a 3-dimensional matrix, where each element has three indices, row index, column index, and depth index.\n",
    "\n",
    "To slice a 3D NumPy array, we can use the same syntax as for slicing a 2D NumPy array. The only difference is that we need to specify a slice for each dimension of the array."
   ]
  },
  {
   "cell_type": "markdown",
   "id": "c5095361-5f92-425c-b003-3805421fe78c",
   "metadata": {},
   "source": [
    "## Syntax of 3D NumPy Array Slicing"
   ]
  },
  {
   "cell_type": "raw",
   "id": "fb4589a6-ac73-4ce9-8d81-215aa9e8bd08",
   "metadata": {},
   "source": [
    "array[row_start:row_stop:row_step, col_start:col_stop:col_step, depth_start:depth_stop:depth_step]\n",
    "\n",
    "Here,\n",
    "row_start, row_stop, row_step - specifies starting index, stopping index, and step size for the rows respectively\n",
    "col_start, col_stop, col_step - specifies starting index, stopping index, and step size for the columns respectively\n",
    "depth_start, depth_stop, depth_step - specifies starting index, stopping index, and step size for the depth respectively"
   ]
  },
  {
   "cell_type": "code",
   "execution_count": 49,
   "id": "7e0e7d1a-bb00-467b-8072-7054a78da56c",
   "metadata": {},
   "outputs": [
    {
     "name": "stdout",
     "output_type": "stream",
     "text": [
      "[[[ 1  2]\n",
      "  [ 4  5]]\n",
      "\n",
      " [[10 11]\n",
      "  [13 14]]]\n"
     ]
    }
   ],
   "source": [
    "# create a 3D array\n",
    "array1 = np.array([[[1, 2, 3], [4, 5, 6], [7, 8, 9]],\n",
    "                   [[10, 11, 12], [13, 14, 15], [16, 17, 18]],\n",
    "                   [[19, 20, 21], [22, 23, 24], [25, 26, 27]]])\n",
    "\n",
    "print(array1[:2, :2, :2])\n"
   ]
  },
  {
   "cell_type": "raw",
   "id": "cf20eb5d-970f-44b4-8539-8207f93a4556",
   "metadata": {},
   "source": [
    "Here, the , in [:2, :2, :2] separates the rows, columns, and depth of the array.\n",
    "\n",
    "The first :2 returns first 2 rows i.e., entire array1. This results in\n",
    "[[ 1  2]\n",
    " [ 4  5]]\n",
    "The second :2 returns first 2 columns from the 2 rows. This results in\n",
    "[[10 11]\n",
    " [13 14]]\n",
    "The third :2 returns first 2 depth elements from the 2 rows and 2 columns. This results in\n",
    "[[ 1  2]\n",
    " [ 4  5]]"
   ]
  },
  {
   "cell_type": "markdown",
   "id": "36b73ff7-a784-40a3-816e-76ba3d2d0383",
   "metadata": {},
   "source": [
    "### Example: 3D NumPy Array Slicing"
   ]
  },
  {
   "cell_type": "code",
   "execution_count": 52,
   "id": "003edfca-100a-491d-b34d-3a9c9d417691",
   "metadata": {},
   "outputs": [
    {
     "name": "stdout",
     "output_type": "stream",
     "text": [
      "First Two Rows, Columns, and Depth: \n",
      " [[[ 1  2]\n",
      "  [ 4  5]]\n",
      "\n",
      " [[10 11]\n",
      "  [13 14]]]\n",
      "Last two Rows, Columns, and Depth: \n",
      " [[[14 15]\n",
      "  [17 18]]\n",
      "\n",
      " [[23 24]\n",
      "  [26 27]]]\n"
     ]
    }
   ],
   "source": [
    "import numpy as np\n",
    "\n",
    "# create a 3D array \n",
    "array1 = np.array([[[1, 2, 3], [4, 5, 6], [7, 8, 9]],\n",
    "                   [[10, 11, 12], [13, 14, 15], [16, 17, 18]],\n",
    "                   [[19, 20, 21], [22, 23, 24], [25, 26, 27]]])\n",
    "\n",
    "\n",
    "# slice the array to get the first two rows, columns, and depth\n",
    "subarray1 = array1[:2, :2, :2]\n",
    "\n",
    "# slice the array to get the last two rows, columns, and depth\n",
    "subarray2 = array1[1:3, 1:3, 1:3]\n",
    "\n",
    "# print the subarrays\n",
    "print(\"First Two Rows, Columns, and Depth: \\n\",subarray1)\n",
    "print(\"Last two Rows, Columns, and Depth: \\n\",subarray2)"
   ]
  },
  {
   "cell_type": "raw",
   "id": "423f31be-b2fe-4dcf-a491-cb89cab90920",
   "metadata": {},
   "source": [
    "Here,\n",
    "\n",
    "array1[:2, :2, :2] - slices array1 that starts at the first row, column, and depth (default values), and ends at the second row, column, and depth (exclusive)\n",
    "array1[1:3, 1:3, 1:3] - slices array1 that starts at the second row, column, and depth (index 1), and ends at the third row, column, and depth (index 2)"
   ]
  },
  {
   "cell_type": "code",
   "execution_count": null,
   "id": "6ed99079-0e75-476c-96d9-0ebccba4ae25",
   "metadata": {},
   "outputs": [],
   "source": []
  }
 ],
 "metadata": {
  "kernelspec": {
   "display_name": "Python 3 (ipykernel)",
   "language": "python",
   "name": "python3"
  },
  "language_info": {
   "codemirror_mode": {
    "name": "ipython",
    "version": 3
   },
   "file_extension": ".py",
   "mimetype": "text/x-python",
   "name": "python",
   "nbconvert_exporter": "python",
   "pygments_lexer": "ipython3",
   "version": "3.12.4"
  }
 },
 "nbformat": 4,
 "nbformat_minor": 5
}
